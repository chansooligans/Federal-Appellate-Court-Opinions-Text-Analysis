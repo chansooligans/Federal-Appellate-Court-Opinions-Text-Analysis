{
 "cells": [
  {
   "cell_type": "code",
   "execution_count": 2,
   "metadata": {},
   "outputs": [],
   "source": [
    "setwd('/Users/chansoosong/Desktop/Research/edsp2019project-chansooligans/Progress_Reports/')\n",
    "library(rjson)\n",
    "library(stringr)"
   ]
  },
  {
   "cell_type": "markdown",
   "metadata": {},
   "source": [
    "# Measuring Judge Ideology"
   ]
  },
  {
   "cell_type": "markdown",
   "metadata": {},
   "source": [
    "### Background:\n",
    "Example: Martin-Quinn Scores, it's computed using a dynamic item-response model. It's *dynamic* because it allows for the latent ideology measure to vary across time. They take a Bayesian approach and achieve the *dynamic* part using a hierarchical random walk prior on the latent ideology measure. "
   ]
  },
  {
   "cell_type": "markdown",
   "metadata": {},
   "source": [
    "![Martin_Quinn](https://mqscores.lsa.umich.edu/images/ipAnim1937_2006.gif)\n",
    "\n",
    "![Image1](Progress_Reports/images/img1.png)"
   ]
  },
  {
   "cell_type": "markdown",
   "metadata": {},
   "source": [
    "## Using text to do the same"
   ]
  },
  {
   "cell_type": "markdown",
   "metadata": {},
   "source": [
    "Consider Snyder vs. Phelps (2011):\n",
    "- Quick facts: Westboro church members picketed with egregious homophobic signs at the funeral service of Marine Lance Corporal Matthew Snyder\n",
    "- Briefly, Roberts states there are \"special protections\" for first amendment for speech regarding public issues that takes place on public land.\n",
    "\n",
    "![Roberts](Progress_Reports/images/roberts.png)\n",
    "\n",
    "- Alito dissents that free speech is not a license to inflict harm. Here's a passage:\n",
    "\n",
    "![Alito](Progress_Reports/images/alito.png)"
   ]
  },
  {
   "cell_type": "markdown",
   "metadata": {},
   "source": [
    "## Modeling Challenges:\n",
    "\n",
    "**Legal Language**: Legal language is generally jargony and typically avoids colloquialisms (e.g. in Congress, members use colloquial speech in floor speeches often such as \"death tax\", \"fake news\", \"alternative facts\", \"pro-life\", \"anti-choice\").\n",
    "\n",
    "Opinion Structure:\n",
    "1. Fact Pattern + How Case Got to This Court\n",
    "2. Explain Legal Concepts, Explain Precedents\n",
    "3. Apply Legal Analysis\n",
    "4. Summarize\n",
    "\n",
    "\n",
    "## Data Challenges:\n",
    "\n",
    "Example #1: https://www.courtlistener.com/opinion/2075/greenwich-financial-services-distressed-mortgage-f/"
   ]
  },
  {
   "cell_type": "code",
   "execution_count": 3,
   "metadata": {},
   "outputs": [
    {
     "data": {
      "text/html": [
       "<dl>\n",
       "\t<dt>$resource_uri</dt>\n",
       "\t\t<dd>'http://www.courtlistener.com/api/rest/v3/opinions/2448/'</dd>\n",
       "\t<dt>$absolute_url</dt>\n",
       "\t\t<dd>'/opinion/2448/wilson-v-cia/'</dd>\n",
       "\t<dt>$cluster</dt>\n",
       "\t\t<dd>'http://www.courtlistener.com/api/rest/v3/clusters/2448/'</dd>\n",
       "\t<dt>$author</dt>\n",
       "\t\t<dd></dd>\n",
       "\t<dt>$joined_by</dt>\n",
       "\t\t<dd></dd>\n",
       "\t<dt>$author_str</dt>\n",
       "\t\t<dd>''</dd>\n",
       "\t<dt>$per_curiam</dt>\n",
       "\t\t<dd>'FALSE'</dd>\n",
       "\t<dt>$date_created</dt>\n",
       "\t\t<dd>'2010-04-24T18:46:13Z'</dd>\n",
       "\t<dt>$date_modified</dt>\n",
       "\t\t<dd>'2017-03-24T00:07:39.383027Z'</dd>\n",
       "\t<dt>$type</dt>\n",
       "\t\t<dd>'010combined'</dd>\n",
       "\t<dt>$sha1</dt>\n",
       "\t\t<dd>'3e1df8de37ca3f53dd845a6600ee5757082b81d6'</dd>\n",
       "\t<dt>$page_count</dt>\n",
       "\t\t<dd>'55'</dd>\n",
       "\t<dt>$download_url</dt>\n",
       "\t\t<dd>'http://www.ca2.uscourts.gov/decisions/isysquery/9c4d23a6-1c14-4a46-97ee-8c7a979737b8/43/doc/07-4244-cv_opn.pdf'</dd>\n",
       "\t<dt>$local_path</dt>\n",
       "\t\t<dd>'pdf/2009/11/12/Wilson_v._CIA.pdf'</dd>\n",
       "\t<dt>$plain_text</dt>\n",
       "\t\t<dd><span style=white-space:pre-wrap>'07-4244-cv\\nWilson v. CIA\\n\\n                             UNITED STATES COURT OF APPEALS\\n\\n                                     F OR THE S ECOND C IRCUIT\\n\\n\\n                                        August Term, 2008\\n\\n         (Argued: January 8, 2009                         Decided: November 12, 2009)\\n\\n                                      Docket No. 07-4244-cv\\n\\n\\n                         V ALERIE P LAME W ILSON, S IMON &amp; S CHUSTER INC.,\\n\\n                                                                         Plaintiffs-Appellants,\\n                                              —v.—\\n\\n  T HE C ENTRAL INTELLIGENCE A GENCY; L EON E. P ANETTA, in his official capacity as\\nDirector of the Central Intelligence Agency; and D ENNIS C. B LAIR, in his official capacity\\n                           as Director of National Intelligence,*\\n\\n                                                                       Defendants-Appellees.\\n\\n\\nBefore:\\n\\n                K ATZMANN and R AGGI, Circuit Judges, and K EENAN, '</span></dd>\n",
       "\t<dt>$html</dt>\n",
       "\t\t<dd>''</dd>\n",
       "\t<dt>$html_lawbox</dt>\n",
       "\t\t<dd>'&lt;div&gt;\\n&lt;center&gt;&lt;b&gt;586 F.3d 171 (2009)&lt;/b&gt;&lt;/center&gt;\\n&lt;center&gt;&lt;h1&gt;Valerie Plame WILSON, Simon &amp;amp; Schuster Inc., Plaintiffs-Appellants,&lt;br&gt;\\nv.&lt;br&gt;\\nThe CENTRAL INTELLIGENCE AGENCY; Leon E. Panetta, in his official capacity as Director of the Central Intelligence Agency; and Dennis C. Blair, in his official capacity as Director of National Intelligence,&lt;sup&gt;[*]&lt;/sup&gt;&lt;span class=\"star-pagination\"&gt;*172&lt;/span&gt; Defendants-Appellees.&lt;/h1&gt;&lt;/center&gt;\\n&lt;center&gt;Docket No. 07-4244-cv.&lt;/center&gt;\\n&lt;center&gt;&lt;p&gt;&lt;b&gt;United States Court of Appeals, Second Circuit.&lt;/b&gt;&lt;/p&gt;&lt;/center&gt;\\n&lt;center&gt;Argued: January 8, 2009.&lt;/center&gt;\\n&lt;center&gt;Decided: November 12, 2009.&lt;/center&gt;\\n&lt;p&gt;&lt;span class=\"star-pagination\"&gt;*173&lt;/span&gt; David B. Smallman, Smallman &amp;amp; Hans LLP, New York, NY, for Plaintiffs-Appellants.&lt;/p&gt;\\n&lt;p&gt;Benjamin H. Torrance, Assistant United States Attorney (Beth E. Goldman, Assistant United States Attorney, on the brief), for Michael J. Garcia, United States Attorney for the Southern District of New York, New Yor'</dd>\n",
       "\t<dt>$html_columbia</dt>\n",
       "\t\t<dd></dd>\n",
       "\t<dt>$html_with_citations</dt>\n",
       "\t\t<dd>'&lt;div&gt;\\n&lt;center&gt;&lt;b&gt;&lt;span class=\"citation no-link\"&gt;&lt;span class=\"volume\"&gt;586&lt;/span&gt; &lt;span class=\"reporter\"&gt;F.3d&lt;/span&gt; &lt;span class=\"page\"&gt;171&lt;/span&gt;&lt;/span&gt; (2009)&lt;/b&gt;&lt;/center&gt;\\n&lt;center&gt;&lt;h1&gt;Valerie Plame WILSON, Simon &amp;amp; Schuster Inc., Plaintiffs-Appellants,&lt;br&gt;\\nv.&lt;br&gt;\\nThe CENTRAL INTELLIGENCE AGENCY; Leon E. Panetta, in his official capacity as Director of the Central Intelligence Agency; and Dennis C. Blair, in his official capacity as Director of National Intelligence,&lt;sup&gt;[*]&lt;/sup&gt;&lt;span class=\"star-pagination\"&gt;*172&lt;/span&gt; Defendants-Appellees.&lt;/h1&gt;&lt;/center&gt;\\n&lt;center&gt;Docket No. 07-4244-cv.&lt;/center&gt;\\n&lt;center&gt;&lt;p&gt;&lt;b&gt;United States Court of Appeals, Second Circuit.&lt;/b&gt;&lt;/p&gt;&lt;/center&gt;\\n&lt;center&gt;Argued: January 8, 2009.&lt;/center&gt;\\n&lt;center&gt;Decided: November 12, 2009.&lt;/center&gt;\\n&lt;p&gt;&lt;span class=\"star-pagination\"&gt;*173&lt;/span&gt; David B. Smallman, Smallman &amp;amp; Hans LLP, New York, NY, for Plaintiffs-Appellants.&lt;/p&gt;\\n&lt;p&gt;Benjamin H. Torrance, Assistant United States Attorney (Beth E. Goldman, Assistant United St'</dd>\n",
       "\t<dt>$extracted_by_ocr</dt>\n",
       "\t\t<dd>'FALSE'</dd>\n",
       "\t<dt>$opinions_cited</dt>\n",
       "\t\t<dd><ol class=list-inline>\n",
       "\t<li>'http://www.courtlistener.com/api/rest/v3/opinions/105087/'</li>\n",
       "\t<li>'http://www.courtlistener.com/api/rest/v3/opinions/106530/'</li>\n",
       "\t<li>'http://www.courtlistener.com/api/rest/v3/opinions/108384/'</li>\n",
       "\t<li>'http://www.courtlistener.com/api/rest/v3/opinions/109380/'</li>\n",
       "\t<li>'http://www.courtlistener.com/api/rest/v3/opinions/110183/'</li>\n",
       "\t<li>'http://www.courtlistener.com/api/rest/v3/opinions/110554/'</li>\n",
       "\t<li>'http://www.courtlistener.com/api/rest/v3/opinions/111410/'</li>\n",
       "\t<li>'http://www.courtlistener.com/api/rest/v3/opinions/111990/'</li>\n",
       "\t<li>'http://www.courtlistener.com/api/rest/v3/opinions/117898/'</li>\n",
       "\t<li>'http://www.courtlistener.com/api/rest/v3/opinions/117955/'</li>\n",
       "\t<li>'http://www.courtlistener.com/api/rest/v3/opinions/117962/'</li>\n",
       "\t<li>'http://www.courtlistener.com/api/rest/v3/opinions/145653/'</li>\n",
       "\t<li>'http://www.courtlistener.com/api/rest/v3/opinions/184811/'</li>\n",
       "\t<li>'http://www.courtlistener.com/api/rest/v3/opinions/185866/'</li>\n",
       "\t<li>'http://www.courtlistener.com/api/rest/v3/opinions/186834/'</li>\n",
       "\t<li>'http://www.courtlistener.com/api/rest/v3/opinions/187234/'</li>\n",
       "\t<li>'http://www.courtlistener.com/api/rest/v3/opinions/187372/'</li>\n",
       "\t<li>'http://www.courtlistener.com/api/rest/v3/opinions/305685/'</li>\n",
       "\t<li>'http://www.courtlistener.com/api/rest/v3/opinions/324799/'</li>\n",
       "\t<li>'http://www.courtlistener.com/api/rest/v3/opinions/393156/'</li>\n",
       "\t<li>'http://www.courtlistener.com/api/rest/v3/opinions/415608/'</li>\n",
       "\t<li>'http://www.courtlistener.com/api/rest/v3/opinions/425935/'</li>\n",
       "\t<li>'http://www.courtlistener.com/api/rest/v3/opinions/533571/'</li>\n",
       "\t<li>'http://www.courtlistener.com/api/rest/v3/opinions/546873/'</li>\n",
       "\t<li>'http://www.courtlistener.com/api/rest/v3/opinions/725502/'</li>\n",
       "\t<li>'http://www.courtlistener.com/api/rest/v3/opinions/764888/'</li>\n",
       "\t<li>'http://www.courtlistener.com/api/rest/v3/opinions/784888/'</li>\n",
       "\t<li>'http://www.courtlistener.com/api/rest/v3/opinions/1188885/'</li>\n",
       "\t<li>'http://www.courtlistener.com/api/rest/v3/opinions/1250840/'</li>\n",
       "\t<li>'http://www.courtlistener.com/api/rest/v3/opinions/1351949/'</li>\n",
       "\t<li>'http://www.courtlistener.com/api/rest/v3/opinions/1455525/'</li>\n",
       "\t<li>'http://www.courtlistener.com/api/rest/v3/opinions/1460414/'</li>\n",
       "\t<li>'http://www.courtlistener.com/api/rest/v3/opinions/2007671/'</li>\n",
       "\t<li>'http://www.courtlistener.com/api/rest/v3/opinions/2378501/'</li>\n",
       "</ol>\n",
       "</dd>\n",
       "</dl>\n"
      ],
      "text/latex": [
       "\\begin{description}\n",
       "\\item[\\$resource\\_uri] 'http://www.courtlistener.com/api/rest/v3/opinions/2448/'\n",
       "\\item[\\$absolute\\_url] '/opinion/2448/wilson-v-cia/'\n",
       "\\item[\\$cluster] 'http://www.courtlistener.com/api/rest/v3/clusters/2448/'\n",
       "\\item[\\$author] \n",
       "\\item[\\$joined\\_by] \n",
       "\\item[\\$author\\_str] ''\n",
       "\\item[\\$per\\_curiam] 'FALSE'\n",
       "\\item[\\$date\\_created] '2010-04-24T18:46:13Z'\n",
       "\\item[\\$date\\_modified] '2017-03-24T00:07:39.383027Z'\n",
       "\\item[\\$type] '010combined'\n",
       "\\item[\\$sha1] '3e1df8de37ca3f53dd845a6600ee5757082b81d6'\n",
       "\\item[\\$page\\_count] '55'\n",
       "\\item[\\$download\\_url] 'http://www.ca2.uscourts.gov/decisions/isysquery/9c4d23a6-1c14-4a46-97ee-8c7a979737b8/43/doc/07-4244-cv\\_opn.pdf'\n",
       "\\item[\\$local\\_path] 'pdf/2009/11/12/Wilson\\_v.\\_CIA.pdf'\n",
       "\\item[\\$plain\\_text] '07-4244-cv\\textbackslash{}nWilson v. CIA\\textbackslash{}n\\textbackslash{}n                             UNITED STATES COURT OF APPEALS\\textbackslash{}n\\textbackslash{}n                                     F OR THE S ECOND C IRCUIT\\textbackslash{}n\\textbackslash{}n\\textbackslash{}n                                        August Term, 2008\\textbackslash{}n\\textbackslash{}n         (Argued: January 8, 2009                         Decided: November 12, 2009)\\textbackslash{}n\\textbackslash{}n                                      Docket No. 07-4244-cv\\textbackslash{}n\\textbackslash{}n\\textbackslash{}n                         V ALERIE P LAME W ILSON, S IMON \\& S CHUSTER INC.,\\textbackslash{}n\\textbackslash{}n                                                                         Plaintiffs-Appellants,\\textbackslash{}n                                              —v.—\\textbackslash{}n\\textbackslash{}n  T HE C ENTRAL INTELLIGENCE A GENCY; L EON E. P ANETTA, in his official capacity as\\textbackslash{}nDirector of the Central Intelligence Agency; and D ENNIS C. B LAIR, in his official capacity\\textbackslash{}n                           as Director of National Intelligence,*\\textbackslash{}n\\textbackslash{}n                                                                       Defendants-Appellees.\\textbackslash{}n\\textbackslash{}n\\textbackslash{}nBefore:\\textbackslash{}n\\textbackslash{}n                K ATZMANN and R AGGI, Circuit Judges, and K EENAN, '\n",
       "\\item[\\$html] ''\n",
       "\\item[\\$html\\_lawbox] '<div>\\textbackslash{}n<center><b>586 F.3d 171 (2009)</b></center>\\textbackslash{}n<center><h1>Valerie Plame WILSON, Simon \\&amp; Schuster Inc., Plaintiffs-Appellants,<br>\\textbackslash{}nv.<br>\\textbackslash{}nThe CENTRAL INTELLIGENCE AGENCY; Leon E. Panetta, in his official capacity as Director of the Central Intelligence Agency; and Dennis C. Blair, in his official capacity as Director of National Intelligence,<sup>{[}*{]}</sup><span class=\"star-pagination\">*172</span> Defendants-Appellees.</h1></center>\\textbackslash{}n<center>Docket No. 07-4244-cv.</center>\\textbackslash{}n<center><p><b>United States Court of Appeals, Second Circuit.</b></p></center>\\textbackslash{}n<center>Argued: January 8, 2009.</center>\\textbackslash{}n<center>Decided: November 12, 2009.</center>\\textbackslash{}n<p><span class=\"star-pagination\">*173</span> David B. Smallman, Smallman \\&amp; Hans LLP, New York, NY, for Plaintiffs-Appellants.</p>\\textbackslash{}n<p>Benjamin H. Torrance, Assistant United States Attorney (Beth E. Goldman, Assistant United States Attorney, on the brief), for Michael J. Garcia, United States Attorney for the Southern District of New York, New Yor'\n",
       "\\item[\\$html\\_columbia] \n",
       "\\item[\\$html\\_with\\_citations] '<div>\\textbackslash{}n<center><b><span class=\"citation no-link\"><span class=\"volume\">586</span> <span class=\"reporter\">F.3d</span> <span class=\"page\">171</span></span> (2009)</b></center>\\textbackslash{}n<center><h1>Valerie Plame WILSON, Simon \\&amp; Schuster Inc., Plaintiffs-Appellants,<br>\\textbackslash{}nv.<br>\\textbackslash{}nThe CENTRAL INTELLIGENCE AGENCY; Leon E. Panetta, in his official capacity as Director of the Central Intelligence Agency; and Dennis C. Blair, in his official capacity as Director of National Intelligence,<sup>{[}*{]}</sup><span class=\"star-pagination\">*172</span> Defendants-Appellees.</h1></center>\\textbackslash{}n<center>Docket No. 07-4244-cv.</center>\\textbackslash{}n<center><p><b>United States Court of Appeals, Second Circuit.</b></p></center>\\textbackslash{}n<center>Argued: January 8, 2009.</center>\\textbackslash{}n<center>Decided: November 12, 2009.</center>\\textbackslash{}n<p><span class=\"star-pagination\">*173</span> David B. Smallman, Smallman \\&amp; Hans LLP, New York, NY, for Plaintiffs-Appellants.</p>\\textbackslash{}n<p>Benjamin H. Torrance, Assistant United States Attorney (Beth E. Goldman, Assistant United St'\n",
       "\\item[\\$extracted\\_by\\_ocr] 'FALSE'\n",
       "\\item[\\$opinions\\_cited] \\begin{enumerate*}\n",
       "\\item 'http://www.courtlistener.com/api/rest/v3/opinions/105087/'\n",
       "\\item 'http://www.courtlistener.com/api/rest/v3/opinions/106530/'\n",
       "\\item 'http://www.courtlistener.com/api/rest/v3/opinions/108384/'\n",
       "\\item 'http://www.courtlistener.com/api/rest/v3/opinions/109380/'\n",
       "\\item 'http://www.courtlistener.com/api/rest/v3/opinions/110183/'\n",
       "\\item 'http://www.courtlistener.com/api/rest/v3/opinions/110554/'\n",
       "\\item 'http://www.courtlistener.com/api/rest/v3/opinions/111410/'\n",
       "\\item 'http://www.courtlistener.com/api/rest/v3/opinions/111990/'\n",
       "\\item 'http://www.courtlistener.com/api/rest/v3/opinions/117898/'\n",
       "\\item 'http://www.courtlistener.com/api/rest/v3/opinions/117955/'\n",
       "\\item 'http://www.courtlistener.com/api/rest/v3/opinions/117962/'\n",
       "\\item 'http://www.courtlistener.com/api/rest/v3/opinions/145653/'\n",
       "\\item 'http://www.courtlistener.com/api/rest/v3/opinions/184811/'\n",
       "\\item 'http://www.courtlistener.com/api/rest/v3/opinions/185866/'\n",
       "\\item 'http://www.courtlistener.com/api/rest/v3/opinions/186834/'\n",
       "\\item 'http://www.courtlistener.com/api/rest/v3/opinions/187234/'\n",
       "\\item 'http://www.courtlistener.com/api/rest/v3/opinions/187372/'\n",
       "\\item 'http://www.courtlistener.com/api/rest/v3/opinions/305685/'\n",
       "\\item 'http://www.courtlistener.com/api/rest/v3/opinions/324799/'\n",
       "\\item 'http://www.courtlistener.com/api/rest/v3/opinions/393156/'\n",
       "\\item 'http://www.courtlistener.com/api/rest/v3/opinions/415608/'\n",
       "\\item 'http://www.courtlistener.com/api/rest/v3/opinions/425935/'\n",
       "\\item 'http://www.courtlistener.com/api/rest/v3/opinions/533571/'\n",
       "\\item 'http://www.courtlistener.com/api/rest/v3/opinions/546873/'\n",
       "\\item 'http://www.courtlistener.com/api/rest/v3/opinions/725502/'\n",
       "\\item 'http://www.courtlistener.com/api/rest/v3/opinions/764888/'\n",
       "\\item 'http://www.courtlistener.com/api/rest/v3/opinions/784888/'\n",
       "\\item 'http://www.courtlistener.com/api/rest/v3/opinions/1188885/'\n",
       "\\item 'http://www.courtlistener.com/api/rest/v3/opinions/1250840/'\n",
       "\\item 'http://www.courtlistener.com/api/rest/v3/opinions/1351949/'\n",
       "\\item 'http://www.courtlistener.com/api/rest/v3/opinions/1455525/'\n",
       "\\item 'http://www.courtlistener.com/api/rest/v3/opinions/1460414/'\n",
       "\\item 'http://www.courtlistener.com/api/rest/v3/opinions/2007671/'\n",
       "\\item 'http://www.courtlistener.com/api/rest/v3/opinions/2378501/'\n",
       "\\end{enumerate*}\n",
       "\n",
       "\\end{description}\n"
      ],
      "text/markdown": [
       "$resource_uri\n",
       ":   'http://www.courtlistener.com/api/rest/v3/opinions/2448/'\n",
       "$absolute_url\n",
       ":   '/opinion/2448/wilson-v-cia/'\n",
       "$cluster\n",
       ":   'http://www.courtlistener.com/api/rest/v3/clusters/2448/'\n",
       "$author\n",
       ":   \n",
       "$joined_by\n",
       ":   \n",
       "$author_str\n",
       ":   ''\n",
       "$per_curiam\n",
       ":   'FALSE'\n",
       "$date_created\n",
       ":   '2010-04-24T18:46:13Z'\n",
       "$date_modified\n",
       ":   '2017-03-24T00:07:39.383027Z'\n",
       "$type\n",
       ":   '010combined'\n",
       "$sha1\n",
       ":   '3e1df8de37ca3f53dd845a6600ee5757082b81d6'\n",
       "$page_count\n",
       ":   '55'\n",
       "$download_url\n",
       ":   'http://www.ca2.uscourts.gov/decisions/isysquery/9c4d23a6-1c14-4a46-97ee-8c7a979737b8/43/doc/07-4244-cv_opn.pdf'\n",
       "$local_path\n",
       ":   'pdf/2009/11/12/Wilson_v._CIA.pdf'\n",
       "$plain_text\n",
       ":   <span style=white-space:pre-wrap>'07-4244-cv\\nWilson v. CIA\\n\\n                             UNITED STATES COURT OF APPEALS\\n\\n                                     F OR THE S ECOND C IRCUIT\\n\\n\\n                                        August Term, 2008\\n\\n         (Argued: January 8, 2009                         Decided: November 12, 2009)\\n\\n                                      Docket No. 07-4244-cv\\n\\n\\n                         V ALERIE P LAME W ILSON, S IMON &amp; S CHUSTER INC.,\\n\\n                                                                         Plaintiffs-Appellants,\\n                                              —v.—\\n\\n  T HE C ENTRAL INTELLIGENCE A GENCY; L EON E. P ANETTA, in his official capacity as\\nDirector of the Central Intelligence Agency; and D ENNIS C. B LAIR, in his official capacity\\n                           as Director of National Intelligence,*\\n\\n                                                                       Defendants-Appellees.\\n\\n\\nBefore:\\n\\n                K ATZMANN and R AGGI, Circuit Judges, and K EENAN, '</span>\n",
       "$html\n",
       ":   ''\n",
       "$html_lawbox\n",
       ":   '&lt;div&gt;\\n&lt;center&gt;&lt;b&gt;586 F.3d 171 (2009)&lt;/b&gt;&lt;/center&gt;\\n&lt;center&gt;&lt;h1&gt;Valerie Plame WILSON, Simon &amp;amp; Schuster Inc., Plaintiffs-Appellants,&lt;br&gt;\\nv.&lt;br&gt;\\nThe CENTRAL INTELLIGENCE AGENCY; Leon E. Panetta, in his official capacity as Director of the Central Intelligence Agency; and Dennis C. Blair, in his official capacity as Director of National Intelligence,&lt;sup&gt;[*]&lt;/sup&gt;&lt;span class=\"star-pagination\"&gt;*172&lt;/span&gt; Defendants-Appellees.&lt;/h1&gt;&lt;/center&gt;\\n&lt;center&gt;Docket No. 07-4244-cv.&lt;/center&gt;\\n&lt;center&gt;&lt;p&gt;&lt;b&gt;United States Court of Appeals, Second Circuit.&lt;/b&gt;&lt;/p&gt;&lt;/center&gt;\\n&lt;center&gt;Argued: January 8, 2009.&lt;/center&gt;\\n&lt;center&gt;Decided: November 12, 2009.&lt;/center&gt;\\n&lt;p&gt;&lt;span class=\"star-pagination\"&gt;*173&lt;/span&gt; David B. Smallman, Smallman &amp;amp; Hans LLP, New York, NY, for Plaintiffs-Appellants.&lt;/p&gt;\\n&lt;p&gt;Benjamin H. Torrance, Assistant United States Attorney (Beth E. Goldman, Assistant United States Attorney, on the brief), for Michael J. Garcia, United States Attorney for the Southern District of New York, New Yor'\n",
       "$html_columbia\n",
       ":   \n",
       "$html_with_citations\n",
       ":   '&lt;div&gt;\\n&lt;center&gt;&lt;b&gt;&lt;span class=\"citation no-link\"&gt;&lt;span class=\"volume\"&gt;586&lt;/span&gt; &lt;span class=\"reporter\"&gt;F.3d&lt;/span&gt; &lt;span class=\"page\"&gt;171&lt;/span&gt;&lt;/span&gt; (2009)&lt;/b&gt;&lt;/center&gt;\\n&lt;center&gt;&lt;h1&gt;Valerie Plame WILSON, Simon &amp;amp; Schuster Inc., Plaintiffs-Appellants,&lt;br&gt;\\nv.&lt;br&gt;\\nThe CENTRAL INTELLIGENCE AGENCY; Leon E. Panetta, in his official capacity as Director of the Central Intelligence Agency; and Dennis C. Blair, in his official capacity as Director of National Intelligence,&lt;sup&gt;[*]&lt;/sup&gt;&lt;span class=\"star-pagination\"&gt;*172&lt;/span&gt; Defendants-Appellees.&lt;/h1&gt;&lt;/center&gt;\\n&lt;center&gt;Docket No. 07-4244-cv.&lt;/center&gt;\\n&lt;center&gt;&lt;p&gt;&lt;b&gt;United States Court of Appeals, Second Circuit.&lt;/b&gt;&lt;/p&gt;&lt;/center&gt;\\n&lt;center&gt;Argued: January 8, 2009.&lt;/center&gt;\\n&lt;center&gt;Decided: November 12, 2009.&lt;/center&gt;\\n&lt;p&gt;&lt;span class=\"star-pagination\"&gt;*173&lt;/span&gt; David B. Smallman, Smallman &amp;amp; Hans LLP, New York, NY, for Plaintiffs-Appellants.&lt;/p&gt;\\n&lt;p&gt;Benjamin H. Torrance, Assistant United States Attorney (Beth E. Goldman, Assistant United St'\n",
       "$extracted_by_ocr\n",
       ":   'FALSE'\n",
       "$opinions_cited\n",
       ":   1. 'http://www.courtlistener.com/api/rest/v3/opinions/105087/'\n",
       "2. 'http://www.courtlistener.com/api/rest/v3/opinions/106530/'\n",
       "3. 'http://www.courtlistener.com/api/rest/v3/opinions/108384/'\n",
       "4. 'http://www.courtlistener.com/api/rest/v3/opinions/109380/'\n",
       "5. 'http://www.courtlistener.com/api/rest/v3/opinions/110183/'\n",
       "6. 'http://www.courtlistener.com/api/rest/v3/opinions/110554/'\n",
       "7. 'http://www.courtlistener.com/api/rest/v3/opinions/111410/'\n",
       "8. 'http://www.courtlistener.com/api/rest/v3/opinions/111990/'\n",
       "9. 'http://www.courtlistener.com/api/rest/v3/opinions/117898/'\n",
       "10. 'http://www.courtlistener.com/api/rest/v3/opinions/117955/'\n",
       "11. 'http://www.courtlistener.com/api/rest/v3/opinions/117962/'\n",
       "12. 'http://www.courtlistener.com/api/rest/v3/opinions/145653/'\n",
       "13. 'http://www.courtlistener.com/api/rest/v3/opinions/184811/'\n",
       "14. 'http://www.courtlistener.com/api/rest/v3/opinions/185866/'\n",
       "15. 'http://www.courtlistener.com/api/rest/v3/opinions/186834/'\n",
       "16. 'http://www.courtlistener.com/api/rest/v3/opinions/187234/'\n",
       "17. 'http://www.courtlistener.com/api/rest/v3/opinions/187372/'\n",
       "18. 'http://www.courtlistener.com/api/rest/v3/opinions/305685/'\n",
       "19. 'http://www.courtlistener.com/api/rest/v3/opinions/324799/'\n",
       "20. 'http://www.courtlistener.com/api/rest/v3/opinions/393156/'\n",
       "21. 'http://www.courtlistener.com/api/rest/v3/opinions/415608/'\n",
       "22. 'http://www.courtlistener.com/api/rest/v3/opinions/425935/'\n",
       "23. 'http://www.courtlistener.com/api/rest/v3/opinions/533571/'\n",
       "24. 'http://www.courtlistener.com/api/rest/v3/opinions/546873/'\n",
       "25. 'http://www.courtlistener.com/api/rest/v3/opinions/725502/'\n",
       "26. 'http://www.courtlistener.com/api/rest/v3/opinions/764888/'\n",
       "27. 'http://www.courtlistener.com/api/rest/v3/opinions/784888/'\n",
       "28. 'http://www.courtlistener.com/api/rest/v3/opinions/1188885/'\n",
       "29. 'http://www.courtlistener.com/api/rest/v3/opinions/1250840/'\n",
       "30. 'http://www.courtlistener.com/api/rest/v3/opinions/1351949/'\n",
       "31. 'http://www.courtlistener.com/api/rest/v3/opinions/1455525/'\n",
       "32. 'http://www.courtlistener.com/api/rest/v3/opinions/1460414/'\n",
       "33. 'http://www.courtlistener.com/api/rest/v3/opinions/2007671/'\n",
       "34. 'http://www.courtlistener.com/api/rest/v3/opinions/2378501/'\n",
       "\n",
       "\n",
       "\n",
       "\n",
       "\n"
      ],
      "text/plain": [
       "$resource_uri\n",
       "[1] \"http://www.courtlistener.com/api/rest/v3/opinions/2448/\"\n",
       "\n",
       "$absolute_url\n",
       "[1] \"/opinion/2448/wilson-v-cia/\"\n",
       "\n",
       "$cluster\n",
       "[1] \"http://www.courtlistener.com/api/rest/v3/clusters/2448/\"\n",
       "\n",
       "$author\n",
       "character(0)\n",
       "\n",
       "$joined_by\n",
       "character(0)\n",
       "\n",
       "$author_str\n",
       "[1] \"\"\n",
       "\n",
       "$per_curiam\n",
       "[1] \"FALSE\"\n",
       "\n",
       "$date_created\n",
       "[1] \"2010-04-24T18:46:13Z\"\n",
       "\n",
       "$date_modified\n",
       "[1] \"2017-03-24T00:07:39.383027Z\"\n",
       "\n",
       "$type\n",
       "[1] \"010combined\"\n",
       "\n",
       "$sha1\n",
       "[1] \"3e1df8de37ca3f53dd845a6600ee5757082b81d6\"\n",
       "\n",
       "$page_count\n",
       "[1] \"55\"\n",
       "\n",
       "$download_url\n",
       "[1] \"http://www.ca2.uscourts.gov/decisions/isysquery/9c4d23a6-1c14-4a46-97ee-8c7a979737b8/43/doc/07-4244-cv_opn.pdf\"\n",
       "\n",
       "$local_path\n",
       "[1] \"pdf/2009/11/12/Wilson_v._CIA.pdf\"\n",
       "\n",
       "$plain_text\n",
       "[1] \"07-4244-cv\\nWilson v. CIA\\n\\n                             UNITED STATES COURT OF APPEALS\\n\\n                                     F OR THE S ECOND C IRCUIT\\n\\n\\n                                        August Term, 2008\\n\\n         (Argued: January 8, 2009                         Decided: November 12, 2009)\\n\\n                                      Docket No. 07-4244-cv\\n\\n\\n                         V ALERIE P LAME W ILSON, S IMON & S CHUSTER INC.,\\n\\n                                                                         Plaintiffs-Appellants,\\n                                              —v.—\\n\\n  T HE C ENTRAL INTELLIGENCE A GENCY; L EON E. P ANETTA, in his official capacity as\\nDirector of the Central Intelligence Agency; and D ENNIS C. B LAIR, in his official capacity\\n                           as Director of National Intelligence,*\\n\\n                                                                       Defendants-Appellees.\\n\\n\\nBefore:\\n\\n                K ATZMANN and R AGGI, Circuit Judges, and K EENAN, \"\n",
       "\n",
       "$html\n",
       "[1] \"\"\n",
       "\n",
       "$html_lawbox\n",
       "[1] \"<div>\\n<center><b>586 F.3d 171 (2009)</b></center>\\n<center><h1>Valerie Plame WILSON, Simon &amp; Schuster Inc., Plaintiffs-Appellants,<br>\\nv.<br>\\nThe CENTRAL INTELLIGENCE AGENCY; Leon E. Panetta, in his official capacity as Director of the Central Intelligence Agency; and Dennis C. Blair, in his official capacity as Director of National Intelligence,<sup>[*]</sup><span class=\\\"star-pagination\\\">*172</span> Defendants-Appellees.</h1></center>\\n<center>Docket No. 07-4244-cv.</center>\\n<center><p><b>United States Court of Appeals, Second Circuit.</b></p></center>\\n<center>Argued: January 8, 2009.</center>\\n<center>Decided: November 12, 2009.</center>\\n<p><span class=\\\"star-pagination\\\">*173</span> David B. Smallman, Smallman &amp; Hans LLP, New York, NY, for Plaintiffs-Appellants.</p>\\n<p>Benjamin H. Torrance, Assistant United States Attorney (Beth E. Goldman, Assistant United States Attorney, on the brief), for Michael J. Garcia, United States Attorney for the Southern District of New York, New Yor\"\n",
       "\n",
       "$html_columbia\n",
       "character(0)\n",
       "\n",
       "$html_with_citations\n",
       "[1] \"<div>\\n<center><b><span class=\\\"citation no-link\\\"><span class=\\\"volume\\\">586</span> <span class=\\\"reporter\\\">F.3d</span> <span class=\\\"page\\\">171</span></span> (2009)</b></center>\\n<center><h1>Valerie Plame WILSON, Simon &amp; Schuster Inc., Plaintiffs-Appellants,<br>\\nv.<br>\\nThe CENTRAL INTELLIGENCE AGENCY; Leon E. Panetta, in his official capacity as Director of the Central Intelligence Agency; and Dennis C. Blair, in his official capacity as Director of National Intelligence,<sup>[*]</sup><span class=\\\"star-pagination\\\">*172</span> Defendants-Appellees.</h1></center>\\n<center>Docket No. 07-4244-cv.</center>\\n<center><p><b>United States Court of Appeals, Second Circuit.</b></p></center>\\n<center>Argued: January 8, 2009.</center>\\n<center>Decided: November 12, 2009.</center>\\n<p><span class=\\\"star-pagination\\\">*173</span> David B. Smallman, Smallman &amp; Hans LLP, New York, NY, for Plaintiffs-Appellants.</p>\\n<p>Benjamin H. Torrance, Assistant United States Attorney (Beth E. Goldman, Assistant United St\"\n",
       "\n",
       "$extracted_by_ocr\n",
       "[1] \"FALSE\"\n",
       "\n",
       "$opinions_cited\n",
       " [1] \"http://www.courtlistener.com/api/rest/v3/opinions/105087/\" \n",
       " [2] \"http://www.courtlistener.com/api/rest/v3/opinions/106530/\" \n",
       " [3] \"http://www.courtlistener.com/api/rest/v3/opinions/108384/\" \n",
       " [4] \"http://www.courtlistener.com/api/rest/v3/opinions/109380/\" \n",
       " [5] \"http://www.courtlistener.com/api/rest/v3/opinions/110183/\" \n",
       " [6] \"http://www.courtlistener.com/api/rest/v3/opinions/110554/\" \n",
       " [7] \"http://www.courtlistener.com/api/rest/v3/opinions/111410/\" \n",
       " [8] \"http://www.courtlistener.com/api/rest/v3/opinions/111990/\" \n",
       " [9] \"http://www.courtlistener.com/api/rest/v3/opinions/117898/\" \n",
       "[10] \"http://www.courtlistener.com/api/rest/v3/opinions/117955/\" \n",
       "[11] \"http://www.courtlistener.com/api/rest/v3/opinions/117962/\" \n",
       "[12] \"http://www.courtlistener.com/api/rest/v3/opinions/145653/\" \n",
       "[13] \"http://www.courtlistener.com/api/rest/v3/opinions/184811/\" \n",
       "[14] \"http://www.courtlistener.com/api/rest/v3/opinions/185866/\" \n",
       "[15] \"http://www.courtlistener.com/api/rest/v3/opinions/186834/\" \n",
       "[16] \"http://www.courtlistener.com/api/rest/v3/opinions/187234/\" \n",
       "[17] \"http://www.courtlistener.com/api/rest/v3/opinions/187372/\" \n",
       "[18] \"http://www.courtlistener.com/api/rest/v3/opinions/305685/\" \n",
       "[19] \"http://www.courtlistener.com/api/rest/v3/opinions/324799/\" \n",
       "[20] \"http://www.courtlistener.com/api/rest/v3/opinions/393156/\" \n",
       "[21] \"http://www.courtlistener.com/api/rest/v3/opinions/415608/\" \n",
       "[22] \"http://www.courtlistener.com/api/rest/v3/opinions/425935/\" \n",
       "[23] \"http://www.courtlistener.com/api/rest/v3/opinions/533571/\" \n",
       "[24] \"http://www.courtlistener.com/api/rest/v3/opinions/546873/\" \n",
       "[25] \"http://www.courtlistener.com/api/rest/v3/opinions/725502/\" \n",
       "[26] \"http://www.courtlistener.com/api/rest/v3/opinions/764888/\" \n",
       "[27] \"http://www.courtlistener.com/api/rest/v3/opinions/784888/\" \n",
       "[28] \"http://www.courtlistener.com/api/rest/v3/opinions/1188885/\"\n",
       "[29] \"http://www.courtlistener.com/api/rest/v3/opinions/1250840/\"\n",
       "[30] \"http://www.courtlistener.com/api/rest/v3/opinions/1351949/\"\n",
       "[31] \"http://www.courtlistener.com/api/rest/v3/opinions/1455525/\"\n",
       "[32] \"http://www.courtlistener.com/api/rest/v3/opinions/1460414/\"\n",
       "[33] \"http://www.courtlistener.com/api/rest/v3/opinions/2007671/\"\n",
       "[34] \"http://www.courtlistener.com/api/rest/v3/opinions/2378501/\"\n"
      ]
     },
     "metadata": {},
     "output_type": "display_data"
    }
   ],
   "source": [
    "example1 = fromJSON(file='data/2448.json')\n",
    "lapply(example1, function(x) substr(x,0,1000))"
   ]
  },
  {
   "cell_type": "markdown",
   "metadata": {},
   "source": [
    "### Problem 1: \"Year\" is missing  \n",
    "\n",
    "Easy to get from \"local path\" if available, otherwise need to get from opinion."
   ]
  },
  {
   "cell_type": "code",
   "execution_count": 4,
   "metadata": {},
   "outputs": [
    {
     "data": {
      "text/html": [
       "'pdf/2009/11/12/Wilson_v._CIA.pdf'"
      ],
      "text/latex": [
       "'pdf/2009/11/12/Wilson\\_v.\\_CIA.pdf'"
      ],
      "text/markdown": [
       "'pdf/2009/11/12/Wilson_v._CIA.pdf'"
      ],
      "text/plain": [
       "[1] \"pdf/2009/11/12/Wilson_v._CIA.pdf\""
      ]
     },
     "metadata": {},
     "output_type": "display_data"
    }
   ],
   "source": [
    "example1$local_path"
   ]
  },
  {
   "cell_type": "code",
   "execution_count": 5,
   "metadata": {},
   "outputs": [
    {
     "data": {
      "text/html": [
       "<ol>\n",
       "\t<li>'pdf/2013/08/01/manning_v._boston_medical_center.pdf'</li>\n",
       "\t<li>'pdf/2010/04/20/Greenwich_Financial_Services_Distressed_Mortgage_Fund_3_LLC_v._Country_.pdf'</li>\n",
       "\t<li>NULL</li>\n",
       "\t<li>NULL</li>\n",
       "\t<li>NULL</li>\n",
       "\t<li>NULL</li>\n",
       "\t<li>NULL</li>\n",
       "\t<li>NULL</li>\n",
       "\t<li>NULL</li>\n",
       "\t<li>NULL</li>\n",
       "\t<li>NULL</li>\n",
       "\t<li>NULL</li>\n",
       "\t<li>NULL</li>\n",
       "\t<li>'pdf/2010/01/28/Keach_v._County_of_Schenectady.pdf'</li>\n",
       "\t<li>'pdf/2009/11/12/Wilson_v._CIA.pdf'</li>\n",
       "\t<li>'pdf/2009/10/15/Seidemann_v._Bowen.pdf'</li>\n",
       "\t<li>'pdf/2009/09/21/Lindsay_v._Assrsquon_of_Profrsquol_Flight_Attendants.pdf'</li>\n",
       "\t<li>'pdf/2009/03/26/a_DSMP_Holdings_.pdf'</li>\n",
       "\t<li>'pdf/2009/01/13/Zheng_v._Mukasey.pdf'</li>\n",
       "\t<li>'pdf/2008/10/16/USA_v._Luna_USA.pdf'</li>\n",
       "\t<li>'pdf/2008/09/24/In_Re_James__Karen_Wornick.pdf'</li>\n",
       "\t<li>'pdf/2008/08/04/The_Cartoon_Network_LP_LLLP_v._CSC_Holdings_Inc..pdf'</li>\n",
       "\t<li>'pdf/2008/06/25/Wheelabrator_Lisbon_Inc._v._State_of_CT_Dept._of_Pub._Util._Control.pdf'</li>\n",
       "\t<li>'pdf/2008/05/02/Ali_v._Mukasey_1.pdf'</li>\n",
       "\t<li>'pdf/2008/02/14/United_States_v._Verkhoglyad.pdf'</li>\n",
       "\t<li>'pdf/2007/11/08/United_States_v._Shellef_and_Rubenstein_1.pdf'</li>\n",
       "\t<li>'pdf/2007/10/12/Khulumani_v._Barclay_National_Bank_Ltd._Ntsebeza_v._Daimler_Chrysler_.pdf'</li>\n",
       "\t<li>'pdf/2007/04/23/ABN_Amro_Verzekeringen_BV_v._Geologistics_Ams._Inc._1.pdf'</li>\n",
       "\t<li>'pdf/2003/04/08/REENA_RAGGI_Circuit_Judge_concurring_in_the_judgment.pdf'</li>\n",
       "\t<li>'pdf/2010/04/23/United_States_of_America_v._Brown_et_al.pdf'</li>\n",
       "\t<li>'pdf/2010/04/22/Bautista-Ramirez_v._Holder.pdf'</li>\n",
       "\t<li>'pdf/2010/04/21/Vilkhu_v._City_of_New_York.pdf'</li>\n",
       "\t<li>'pdf/2010/04/21/Crenshaw_v._City_of_Mount_Vernon_et_al..pdf'</li>\n",
       "\t<li>'pdf/2010/04/20/Lesch_v._United_States_of_America.pdf'</li>\n",
       "\t<li>'pdf/2010/04/06/Islam_v._Holder.pdf'</li>\n",
       "\t<li>'pdf/2010/03/19/Kinneary_v._City_of_New_York.pdf'</li>\n",
       "\t<li>'pdf/2010/03/29/Anglo-Iberia_v._Lodderhose.pdf'</li>\n",
       "</ol>\n"
      ],
      "text/latex": [
       "\\begin{enumerate}\n",
       "\\item 'pdf/2013/08/01/manning\\_v.\\_boston\\_medical\\_center.pdf'\n",
       "\\item 'pdf/2010/04/20/Greenwich\\_Financial\\_Services\\_Distressed\\_Mortgage\\_Fund\\_3\\_LLC\\_v.\\_Country\\_.pdf'\n",
       "\\item NULL\n",
       "\\item NULL\n",
       "\\item NULL\n",
       "\\item NULL\n",
       "\\item NULL\n",
       "\\item NULL\n",
       "\\item NULL\n",
       "\\item NULL\n",
       "\\item NULL\n",
       "\\item NULL\n",
       "\\item NULL\n",
       "\\item 'pdf/2010/01/28/Keach\\_v.\\_County\\_of\\_Schenectady.pdf'\n",
       "\\item 'pdf/2009/11/12/Wilson\\_v.\\_CIA.pdf'\n",
       "\\item 'pdf/2009/10/15/Seidemann\\_v.\\_Bowen.pdf'\n",
       "\\item 'pdf/2009/09/21/Lindsay\\_v.\\_Assrsquon\\_of\\_Profrsquol\\_Flight\\_Attendants.pdf'\n",
       "\\item 'pdf/2009/03/26/a\\_DSMP\\_Holdings\\_.pdf'\n",
       "\\item 'pdf/2009/01/13/Zheng\\_v.\\_Mukasey.pdf'\n",
       "\\item 'pdf/2008/10/16/USA\\_v.\\_Luna\\_USA.pdf'\n",
       "\\item 'pdf/2008/09/24/In\\_Re\\_James\\_\\_Karen\\_Wornick.pdf'\n",
       "\\item 'pdf/2008/08/04/The\\_Cartoon\\_Network\\_LP\\_LLLP\\_v.\\_CSC\\_Holdings\\_Inc..pdf'\n",
       "\\item 'pdf/2008/06/25/Wheelabrator\\_Lisbon\\_Inc.\\_v.\\_State\\_of\\_CT\\_Dept.\\_of\\_Pub.\\_Util.\\_Control.pdf'\n",
       "\\item 'pdf/2008/05/02/Ali\\_v.\\_Mukasey\\_1.pdf'\n",
       "\\item 'pdf/2008/02/14/United\\_States\\_v.\\_Verkhoglyad.pdf'\n",
       "\\item 'pdf/2007/11/08/United\\_States\\_v.\\_Shellef\\_and\\_Rubenstein\\_1.pdf'\n",
       "\\item 'pdf/2007/10/12/Khulumani\\_v.\\_Barclay\\_National\\_Bank\\_Ltd.\\_Ntsebeza\\_v.\\_Daimler\\_Chrysler\\_.pdf'\n",
       "\\item 'pdf/2007/04/23/ABN\\_Amro\\_Verzekeringen\\_BV\\_v.\\_Geologistics\\_Ams.\\_Inc.\\_1.pdf'\n",
       "\\item 'pdf/2003/04/08/REENA\\_RAGGI\\_Circuit\\_Judge\\_concurring\\_in\\_the\\_judgment.pdf'\n",
       "\\item 'pdf/2010/04/23/United\\_States\\_of\\_America\\_v.\\_Brown\\_et\\_al.pdf'\n",
       "\\item 'pdf/2010/04/22/Bautista-Ramirez\\_v.\\_Holder.pdf'\n",
       "\\item 'pdf/2010/04/21/Vilkhu\\_v.\\_City\\_of\\_New\\_York.pdf'\n",
       "\\item 'pdf/2010/04/21/Crenshaw\\_v.\\_City\\_of\\_Mount\\_Vernon\\_et\\_al..pdf'\n",
       "\\item 'pdf/2010/04/20/Lesch\\_v.\\_United\\_States\\_of\\_America.pdf'\n",
       "\\item 'pdf/2010/04/06/Islam\\_v.\\_Holder.pdf'\n",
       "\\item 'pdf/2010/03/19/Kinneary\\_v.\\_City\\_of\\_New\\_York.pdf'\n",
       "\\item 'pdf/2010/03/29/Anglo-Iberia\\_v.\\_Lodderhose.pdf'\n",
       "\\end{enumerate}\n"
      ],
      "text/markdown": [
       "1. 'pdf/2013/08/01/manning_v._boston_medical_center.pdf'\n",
       "2. 'pdf/2010/04/20/Greenwich_Financial_Services_Distressed_Mortgage_Fund_3_LLC_v._Country_.pdf'\n",
       "3. NULL\n",
       "4. NULL\n",
       "5. NULL\n",
       "6. NULL\n",
       "7. NULL\n",
       "8. NULL\n",
       "9. NULL\n",
       "10. NULL\n",
       "11. NULL\n",
       "12. NULL\n",
       "13. NULL\n",
       "14. 'pdf/2010/01/28/Keach_v._County_of_Schenectady.pdf'\n",
       "15. 'pdf/2009/11/12/Wilson_v._CIA.pdf'\n",
       "16. 'pdf/2009/10/15/Seidemann_v._Bowen.pdf'\n",
       "17. 'pdf/2009/09/21/Lindsay_v._Assrsquon_of_Profrsquol_Flight_Attendants.pdf'\n",
       "18. 'pdf/2009/03/26/a_DSMP_Holdings_.pdf'\n",
       "19. 'pdf/2009/01/13/Zheng_v._Mukasey.pdf'\n",
       "20. 'pdf/2008/10/16/USA_v._Luna_USA.pdf'\n",
       "21. 'pdf/2008/09/24/In_Re_James__Karen_Wornick.pdf'\n",
       "22. 'pdf/2008/08/04/The_Cartoon_Network_LP_LLLP_v._CSC_Holdings_Inc..pdf'\n",
       "23. 'pdf/2008/06/25/Wheelabrator_Lisbon_Inc._v._State_of_CT_Dept._of_Pub._Util._Control.pdf'\n",
       "24. 'pdf/2008/05/02/Ali_v._Mukasey_1.pdf'\n",
       "25. 'pdf/2008/02/14/United_States_v._Verkhoglyad.pdf'\n",
       "26. 'pdf/2007/11/08/United_States_v._Shellef_and_Rubenstein_1.pdf'\n",
       "27. 'pdf/2007/10/12/Khulumani_v._Barclay_National_Bank_Ltd._Ntsebeza_v._Daimler_Chrysler_.pdf'\n",
       "28. 'pdf/2007/04/23/ABN_Amro_Verzekeringen_BV_v._Geologistics_Ams._Inc._1.pdf'\n",
       "29. 'pdf/2003/04/08/REENA_RAGGI_Circuit_Judge_concurring_in_the_judgment.pdf'\n",
       "30. 'pdf/2010/04/23/United_States_of_America_v._Brown_et_al.pdf'\n",
       "31. 'pdf/2010/04/22/Bautista-Ramirez_v._Holder.pdf'\n",
       "32. 'pdf/2010/04/21/Vilkhu_v._City_of_New_York.pdf'\n",
       "33. 'pdf/2010/04/21/Crenshaw_v._City_of_Mount_Vernon_et_al..pdf'\n",
       "34. 'pdf/2010/04/20/Lesch_v._United_States_of_America.pdf'\n",
       "35. 'pdf/2010/04/06/Islam_v._Holder.pdf'\n",
       "36. 'pdf/2010/03/19/Kinneary_v._City_of_New_York.pdf'\n",
       "37. 'pdf/2010/03/29/Anglo-Iberia_v._Lodderhose.pdf'\n",
       "\n",
       "\n"
      ],
      "text/plain": [
       "[[1]]\n",
       "[1] \"pdf/2013/08/01/manning_v._boston_medical_center.pdf\"\n",
       "\n",
       "[[2]]\n",
       "[1] \"pdf/2010/04/20/Greenwich_Financial_Services_Distressed_Mortgage_Fund_3_LLC_v._Country_.pdf\"\n",
       "\n",
       "[[3]]\n",
       "NULL\n",
       "\n",
       "[[4]]\n",
       "NULL\n",
       "\n",
       "[[5]]\n",
       "NULL\n",
       "\n",
       "[[6]]\n",
       "NULL\n",
       "\n",
       "[[7]]\n",
       "NULL\n",
       "\n",
       "[[8]]\n",
       "NULL\n",
       "\n",
       "[[9]]\n",
       "NULL\n",
       "\n",
       "[[10]]\n",
       "NULL\n",
       "\n",
       "[[11]]\n",
       "NULL\n",
       "\n",
       "[[12]]\n",
       "NULL\n",
       "\n",
       "[[13]]\n",
       "NULL\n",
       "\n",
       "[[14]]\n",
       "[1] \"pdf/2010/01/28/Keach_v._County_of_Schenectady.pdf\"\n",
       "\n",
       "[[15]]\n",
       "[1] \"pdf/2009/11/12/Wilson_v._CIA.pdf\"\n",
       "\n",
       "[[16]]\n",
       "[1] \"pdf/2009/10/15/Seidemann_v._Bowen.pdf\"\n",
       "\n",
       "[[17]]\n",
       "[1] \"pdf/2009/09/21/Lindsay_v._Assrsquon_of_Profrsquol_Flight_Attendants.pdf\"\n",
       "\n",
       "[[18]]\n",
       "[1] \"pdf/2009/03/26/a_DSMP_Holdings_.pdf\"\n",
       "\n",
       "[[19]]\n",
       "[1] \"pdf/2009/01/13/Zheng_v._Mukasey.pdf\"\n",
       "\n",
       "[[20]]\n",
       "[1] \"pdf/2008/10/16/USA_v._Luna_USA.pdf\"\n",
       "\n",
       "[[21]]\n",
       "[1] \"pdf/2008/09/24/In_Re_James__Karen_Wornick.pdf\"\n",
       "\n",
       "[[22]]\n",
       "[1] \"pdf/2008/08/04/The_Cartoon_Network_LP_LLLP_v._CSC_Holdings_Inc..pdf\"\n",
       "\n",
       "[[23]]\n",
       "[1] \"pdf/2008/06/25/Wheelabrator_Lisbon_Inc._v._State_of_CT_Dept._of_Pub._Util._Control.pdf\"\n",
       "\n",
       "[[24]]\n",
       "[1] \"pdf/2008/05/02/Ali_v._Mukasey_1.pdf\"\n",
       "\n",
       "[[25]]\n",
       "[1] \"pdf/2008/02/14/United_States_v._Verkhoglyad.pdf\"\n",
       "\n",
       "[[26]]\n",
       "[1] \"pdf/2007/11/08/United_States_v._Shellef_and_Rubenstein_1.pdf\"\n",
       "\n",
       "[[27]]\n",
       "[1] \"pdf/2007/10/12/Khulumani_v._Barclay_National_Bank_Ltd._Ntsebeza_v._Daimler_Chrysler_.pdf\"\n",
       "\n",
       "[[28]]\n",
       "[1] \"pdf/2007/04/23/ABN_Amro_Verzekeringen_BV_v._Geologistics_Ams._Inc._1.pdf\"\n",
       "\n",
       "[[29]]\n",
       "[1] \"pdf/2003/04/08/REENA_RAGGI_Circuit_Judge_concurring_in_the_judgment.pdf\"\n",
       "\n",
       "[[30]]\n",
       "[1] \"pdf/2010/04/23/United_States_of_America_v._Brown_et_al.pdf\"\n",
       "\n",
       "[[31]]\n",
       "[1] \"pdf/2010/04/22/Bautista-Ramirez_v._Holder.pdf\"\n",
       "\n",
       "[[32]]\n",
       "[1] \"pdf/2010/04/21/Vilkhu_v._City_of_New_York.pdf\"\n",
       "\n",
       "[[33]]\n",
       "[1] \"pdf/2010/04/21/Crenshaw_v._City_of_Mount_Vernon_et_al..pdf\"\n",
       "\n",
       "[[34]]\n",
       "[1] \"pdf/2010/04/20/Lesch_v._United_States_of_America.pdf\"\n",
       "\n",
       "[[35]]\n",
       "[1] \"pdf/2010/04/06/Islam_v._Holder.pdf\"\n",
       "\n",
       "[[36]]\n",
       "[1] \"pdf/2010/03/19/Kinneary_v._City_of_New_York.pdf\"\n",
       "\n",
       "[[37]]\n",
       "[1] \"pdf/2010/03/29/Anglo-Iberia_v._Lodderhose.pdf\"\n"
      ]
     },
     "metadata": {},
     "output_type": "display_data"
    }
   ],
   "source": [
    "file_names = list.files('data/')\n",
    "opinions = list()\n",
    "for(i in 1:length(file_names)) opinions[[i]] = fromJSON(file=paste('data/',file_names[i],sep=''))\n",
    "lapply(opinions,function(x) x$local_path)"
   ]
  },
  {
   "cell_type": "markdown",
   "metadata": {},
   "source": [
    "### Problem 2: \"plain_text\", \"html\", \"html_lawbox\", \"html_columbia\", \"html_with_citations\" each contain argument with different format"
   ]
  },
  {
   "cell_type": "code",
   "execution_count": 6,
   "metadata": {},
   "outputs": [
    {
     "data": {
      "text/html": [
       "<ol class=list-inline>\n",
       "\t<li><span style=white-space:pre-wrap>'          United States Court of Appeals\\n                        For the First Circuit\\n\\n\\nNos. 12-1573, 12-1653\\n\\n                    ELIZABETH MANNING ET AL.,\\n\\n                        Plaintiffs, Appel'</span></li>\n",
       "\t<li>''</li>\n",
       "\t<li>'NULL'</li>\n",
       "\t<li><span style=white-space:pre-wrap>'&lt;pre class=\"inline\"&gt;          United States Court of Appeals\\n                        For the First Circuit\\n\\n\\nNos. 12-1573, 12-1653\\n\\n                    ELIZABETH MANNING ET AL.,\\n\\n                     '</span></li>\n",
       "</ol>\n"
      ],
      "text/latex": [
       "\\begin{enumerate*}\n",
       "\\item '          United States Court of Appeals\\textbackslash{}n                        For the First Circuit\\textbackslash{}n\\textbackslash{}n\\textbackslash{}nNos. 12-1573, 12-1653\\textbackslash{}n\\textbackslash{}n                    ELIZABETH MANNING ET AL.,\\textbackslash{}n\\textbackslash{}n                        Plaintiffs, Appel'\n",
       "\\item ''\n",
       "\\item 'NULL'\n",
       "\\item '<pre class=\"inline\">          United States Court of Appeals\\textbackslash{}n                        For the First Circuit\\textbackslash{}n\\textbackslash{}n\\textbackslash{}nNos. 12-1573, 12-1653\\textbackslash{}n\\textbackslash{}n                    ELIZABETH MANNING ET AL.,\\textbackslash{}n\\textbackslash{}n                     '\n",
       "\\end{enumerate*}\n"
      ],
      "text/markdown": [
       "1. <span style=white-space:pre-wrap>'          United States Court of Appeals\\n                        For the First Circuit\\n\\n\\nNos. 12-1573, 12-1653\\n\\n                    ELIZABETH MANNING ET AL.,\\n\\n                        Plaintiffs, Appel'</span>\n",
       "2. ''\n",
       "3. 'NULL'\n",
       "4. <span style=white-space:pre-wrap>'&lt;pre class=\"inline\"&gt;          United States Court of Appeals\\n                        For the First Circuit\\n\\n\\nNos. 12-1573, 12-1653\\n\\n                    ELIZABETH MANNING ET AL.,\\n\\n                     '</span>\n",
       "\n",
       "\n"
      ],
      "text/plain": [
       "[1] \"          United States Court of Appeals\\n                        For the First Circuit\\n\\n\\nNos. 12-1573, 12-1653\\n\\n                    ELIZABETH MANNING ET AL.,\\n\\n                        Plaintiffs, Appel\"  \n",
       "[2] \"\"                                                                                                                                                                                                                  \n",
       "[3] \"NULL\"                                                                                                                                                                                                              \n",
       "[4] \"<pre class=\\\"inline\\\">          United States Court of Appeals\\n                        For the First Circuit\\n\\n\\nNos. 12-1573, 12-1653\\n\\n                    ELIZABETH MANNING ET AL.,\\n\\n                     \""
      ]
     },
     "metadata": {},
     "output_type": "display_data"
    }
   ],
   "source": [
    "substr(opinions[[1]][c('plain_text','html','html_columbia','html_with_citations')],0,200)"
   ]
  },
  {
   "cell_type": "code",
   "execution_count": 7,
   "metadata": {},
   "outputs": [],
   "source": [
    "print_some_lines = function(x,n_lines) {\n",
    "    print(paste('plain_text:',substr(x$plain_text,0,n_lines)))\n",
    "    print(paste('html:',substr(x$html,0,n_lines)))\n",
    "    print(paste('html_columbia:',substr(x$html_columbia,0,n_lines)))\n",
    "    print(paste('html_with_citations:',substr(x$html_with_citations,0,n_lines)))\n",
    "}"
   ]
  },
  {
   "cell_type": "code",
   "execution_count": 8,
   "metadata": {},
   "outputs": [
    {
     "data": {
      "text/html": [
       "'/opinion/237855/doris-sylvia-grey-infant-and-howard-martin-grey-infant-children-of/'"
      ],
      "text/latex": [
       "'/opinion/237855/doris-sylvia-grey-infant-and-howard-martin-grey-infant-children-of/'"
      ],
      "text/markdown": [
       "'/opinion/237855/doris-sylvia-grey-infant-and-howard-martin-grey-infant-children-of/'"
      ],
      "text/plain": [
       "[1] \"/opinion/237855/doris-sylvia-grey-infant-and-howard-martin-grey-infant-children-of/\""
      ]
     },
     "metadata": {},
     "output_type": "display_data"
    }
   ],
   "source": [
    "opinions[[4]]$absolute_url"
   ]
  },
  {
   "cell_type": "code",
   "execution_count": 9,
   "metadata": {
    "scrolled": true
   },
   "outputs": [
    {
     "name": "stdout",
     "output_type": "stream",
     "text": [
      "[1] \"plain_text: \"\n",
      "[1] \"html: <p class=\\\"case_cite\\\">227 F.2d 282</p>\\n    <p class=\\\"parties\\\">Doris Sylvia GREY, infant, and Howard Martin Grey, infant,<br>children of Harry M. Goldberg, deceased, and<br>Sophie Goldberg, deceased, by Esther<br>Weiner, their guardian ad<br>litem, Plaintiffs-Appellants,<br>v.<br>AMERICAN AIRLINES, Inc., Defendant-Appellee.</p>\\n    <p class=\\\"docket\\\">No. 73, Docket 23601.</p>\\n    <p class=\\\"court\\\">United States Court of Appeals Second Circuit.</p>\\n    <p class=\\\"date\\\">Argued Oct. 7, 1955.<br>Decided Nov. 7, 1955.</p>\\n    <div class=\\\"prelims\\\">\\n      <p class=\\\"indent\\\">Manes, Sturim, Donovan &amp; Laufer, New York City (Arthur M. Laufer and Samuel S. Sturim, New York City, on the brief), for plaintiffs-appellants.</p>\\n      <p class=\\\"indent\\\">Haight, Gardner, Poor &amp; Havens, New York City (William J. Junkerman and James B. McQuillan, New York City, of counsel), for defendant-appellee.</p>\\n      <p class=\\\"indent\\\">Before HAND, MEDINA and LUMBARD, Circuit Judges.</p>\\n      <p class=\\\"indent\\\">MEDINA, Circuit Judge.</p>\\n    </div>\\n    <div class=\\\"num\\\" id=\\\"p1\\\">\\n      <span class=\\\"num\\\">1</span>\\n      <p class=\\\"indent\\\">The parents of the infant plaintiffs and twenty-six other persons met their deaths during the early hours of the morning of November 29, 1949, when defendant's Douglas DC-6 airplane, on an international flight from New York to Mexico City, crashed at Love Field, Dallas, Texas.</p>\\n    </div>\\n    <div class=\\\"num\\\" id=\\\"p2\\\">\\n      <span class=\\\"num\\\">2</span>\\n      <p class=\\\"indent\\\">While plaintiffs contended that the Warsaw Convention was not applicable, because the passenger tickets issued to decedents did not make reference to the intermediate 'agreed stopping places'<a class=\\\"footnote\\\" href=\\\"#fn1\\\" id=\\\"fn1_ref\\\">1</a> of Washington, D.C., and Dallas, Texas, motions to strike the usual Warsaw Convention limitation of liability defenses, based upon this technical and wholly unsubstantial alleged omission, were denied before trial by Judge Noonan.  We agree with Judge Noon\"\n",
      "[1] \"html_columbia: \"\n",
      "[1] \"html_with_citations: <p class=\\\"case_cite\\\"><span class=\\\"citation no-link\\\"><span class=\\\"volume\\\">227</span> <span class=\\\"reporter\\\">F.2d</span> <span class=\\\"page\\\">282</span></span></p>\\n    <p class=\\\"parties\\\">Doris Sylvia GREY, infant, and Howard Martin Grey, infant,<br>children of Harry M. Goldberg, deceased, and<br>Sophie Goldberg, deceased, by Esther<br>Weiner, their guardian ad<br>litem, Plaintiffs-Appellants,<br>v.<br>AMERICAN AIRLINES, Inc., Defendant-Appellee.</p>\\n    <p class=\\\"docket\\\">No. 73, Docket 23601.</p>\\n    <p class=\\\"court\\\">United States Court of Appeals Second Circuit.</p>\\n    <p class=\\\"date\\\">Argued Oct. 7, 1955.<br>Decided Nov. 7, 1955.</p>\\n    <div class=\\\"prelims\\\">\\n      <p class=\\\"indent\\\">Manes, Sturim, Donovan &amp; Laufer, New York City (Arthur M. Laufer and Samuel S. Sturim, New York City, on the brief), for plaintiffs-appellants.</p>\\n      <p class=\\\"indent\\\">Haight, Gardner, Poor &amp; Havens, New York City (William J. Junkerman and James B. McQuillan, New York City, of counsel), for defendant-appellee.</p>\\n      <p class=\\\"indent\\\">Before HAND, MEDINA and LUMBARD, Circuit Judges.</p>\\n      <p class=\\\"indent\\\">MEDINA, Circuit Judge.</p>\\n    </div>\\n    <div class=\\\"num\\\" id=\\\"p1\\\">\\n      <span class=\\\"num\\\">1</span>\\n      <p class=\\\"indent\\\">The parents of the infant plaintiffs and twenty-six other persons met their deaths during the early hours of the morning of November 29, 1949, when defendant's Douglas DC-6 airplane, on an international flight from New York to Mexico City, crashed at Love Field, Dallas, Texas.</p>\\n    </div>\\n    <div class=\\\"num\\\" id=\\\"p2\\\">\\n      <span class=\\\"num\\\">2</span>\\n      <p class=\\\"indent\\\">While plaintiffs contended that the Warsaw Convention was not applicable, because the passenger tickets issued to decedents did not make reference to the intermediate 'agreed stopping places'<a class=\\\"footnote\\\" href=\\\"#fn1\\\" id=\\\"fn1_ref\\\">1</a> of Washington, D.C., and Dallas, Texas, motions to strike the usual Warsaw Convention limitation of liability defenses, based upon thi\"\n"
     ]
    }
   ],
   "source": [
    "print_some_lines(opinions[[4]],2000)"
   ]
  },
  {
   "cell_type": "markdown",
   "metadata": {},
   "source": [
    "### Problem 3: Get Author Name"
   ]
  },
  {
   "cell_type": "markdown",
   "metadata": {},
   "source": [
    "JSON files do have \"author\" and \"author_str\" keys, but they are empty...  \n",
    "Metadata are available but professors won't share unless I am a co-author"
   ]
  },
  {
   "cell_type": "code",
   "execution_count": 10,
   "metadata": {},
   "outputs": [
    {
     "data": {
      "text/plain": [
       "NULL"
      ]
     },
     "metadata": {},
     "output_type": "display_data"
    },
    {
     "data": {
      "text/html": [
       "''"
      ],
      "text/latex": [
       "''"
      ],
      "text/markdown": [
       "''"
      ],
      "text/plain": [
       "[1] \"\""
      ]
     },
     "metadata": {},
     "output_type": "display_data"
    }
   ],
   "source": [
    "opinions[[4]]$author\n",
    "opinions[[4]]$author_str"
   ]
  },
  {
   "cell_type": "markdown",
   "metadata": {},
   "source": [
    "https://www.courtlistener.com/opinion/237855/doris-sylvia-grey-infant-and-howard-martin-grey-infant-children-of/"
   ]
  },
  {
   "cell_type": "markdown",
   "metadata": {},
   "source": [
    "Author is MEDINA not LUMBARD"
   ]
  },
  {
   "cell_type": "code",
   "execution_count": 11,
   "metadata": {},
   "outputs": [
    {
     "data": {
      "text/html": [
       "<span style=white-space:pre-wrap>'&lt;p class=\"indent\"&gt;Before HAND, MEDINA and LUMBARD, Circuit Judges.&lt;/p&gt;\\n      &lt;p class=\"indent\"&gt;MEDINA, Circuit Judge.&lt;/p&gt;\\n    &lt;/div&gt;\\n    &lt;div class=\"num\" id=\"p1\"&gt;\\n      &lt;span c'</span>"
      ],
      "text/latex": [
       "'<p class=\"indent\">Before HAND, MEDINA and LUMBARD, Circuit Judges.</p>\\textbackslash{}n      <p class=\"indent\">MEDINA, Circuit Judge.</p>\\textbackslash{}n    </div>\\textbackslash{}n    <div class=\"num\" id=\"p1\">\\textbackslash{}n      <span c'"
      ],
      "text/markdown": [
       "<span style=white-space:pre-wrap>'&lt;p class=\"indent\"&gt;Before HAND, MEDINA and LUMBARD, Circuit Judges.&lt;/p&gt;\\n      &lt;p class=\"indent\"&gt;MEDINA, Circuit Judge.&lt;/p&gt;\\n    &lt;/div&gt;\\n    &lt;div class=\"num\" id=\"p1\"&gt;\\n      &lt;span c'</span>"
      ],
      "text/plain": [
       "[1] \"<p class=\\\"indent\\\">Before HAND, MEDINA and LUMBARD, Circuit Judges.</p>\\n      <p class=\\\"indent\\\">MEDINA, Circuit Judge.</p>\\n    </div>\\n    <div class=\\\"num\\\" id=\\\"p1\\\">\\n      <span c\""
      ]
     },
     "metadata": {},
     "output_type": "display_data"
    }
   ],
   "source": [
    "substr(opinions[[4]]$html_with_citations,1025,1200)"
   ]
  },
  {
   "cell_type": "code",
   "execution_count": 12,
   "metadata": {},
   "outputs": [
    {
     "data": {
      "text/html": [
       "'MEDINA,'"
      ],
      "text/latex": [
       "'MEDINA,'"
      ],
      "text/markdown": [
       "'MEDINA,'"
      ],
      "text/plain": [
       "[1] \"MEDINA,\""
      ]
     },
     "metadata": {},
     "output_type": "display_data"
    }
   ],
   "source": [
    "str_match(opinions[[4]]$html_with_citations, \"<p class=\\\"indent\\\"([ \\t>]*)([a-zA-Z,]*)[ \\t]Circuit[ \\t]+Judge[.]\")[,3]"
   ]
  },
  {
   "cell_type": "markdown",
   "metadata": {},
   "source": [
    "### Problem 4: Dissents, Concurring, Per Curiam, Errata Sheets"
   ]
  },
  {
   "cell_type": "markdown",
   "metadata": {},
   "source": [
    "Example Dissent: \n",
    "\n",
    "https://www.courtlistener.com/opinion/1036108/manning-v-boston-medical-center/\n",
    "\n",
    "Example Errata Sheet:\n",
    "\n",
    "https://www.courtlistener.com/opinion/1034770/in-reauerhahn-v/"
   ]
  },
  {
   "cell_type": "markdown",
   "metadata": {},
   "source": [
    "Excluding these for now  \n",
    "\n",
    "Total First Circuit Files: 34834  \n",
    "Dissents: 275 (< 1%)  \n",
    "Errata: 1527 (4%)  \n",
    "Per Curiam: 3713 (10%)  "
   ]
  },
  {
   "cell_type": "markdown",
   "metadata": {},
   "source": [
    "![image2](Progress_Reports/images/federal_dissents.png)"
   ]
  },
  {
   "cell_type": "markdown",
   "metadata": {},
   "source": [
    "(From \"Why (and when) judges dissents: A Theoretical Empiriccal Analysis\" - Epstein, Landes, Posner (2011))"
   ]
  },
  {
   "cell_type": "markdown",
   "metadata": {},
   "source": [
    "## Metadata"
   ]
  },
  {
   "cell_type": "markdown",
   "metadata": {},
   "source": [
    "I created a metadata file (so far only includes first circuit):\n",
    "\n",
    "Roughly 50,000 federal appellate court cases per year\n",
    "Roughly 1400 first curcuit cases per year"
   ]
  },
  {
   "cell_type": "code",
   "execution_count": 13,
   "metadata": {},
   "outputs": [],
   "source": [
    "load('data_inventory.ca1.RDATA')"
   ]
  },
  {
   "cell_type": "code",
   "execution_count": 14,
   "metadata": {},
   "outputs": [
    {
     "data": {
      "text/html": [
       "<table>\n",
       "<thead><tr><th scope=col>file_name</th><th scope=col>year</th><th scope=col>case_name</th><th scope=col>alt_case_name</th><th scope=col>circuit</th><th scope=col>local_path</th><th scope=col>absolute_url</th><th scope=col>type</th><th scope=col>author</th><th scope=col>joined_by</th><th scope=col>download_url</th><th scope=col>plain_text</th><th scope=col>judge</th><th scope=col>dissent</th><th scope=col>concurring</th><th scope=col>per_curiam</th><th scope=col>errata</th></tr></thead>\n",
       "<tbody>\n",
       "\t<tr><td>1.json                                                      </td><td>2010                                                        </td><td>US_v._Davila-Gonzalez                                       </td><td>united-states-v-davila-gonzalez                             </td><td>ca1                                                         </td><td>pdf/2010/02/10/US_v._Davila-Gonzalez.pdf                    </td><td>/opinion/1/united-states-v-davila-gonzalez/                 </td><td>010combined                                                 </td><td>NA                                                          </td><td>NA                                                          </td><td>http://www.ca1.uscourts.gov/pdf.opinions/08-2575P-01A.pdf   </td><td>plain                                                       </td><td>SELYA,                                                      </td><td>0                                                           </td><td>0                                                           </td><td>0                                                           </td><td>0                                                           </td></tr>\n",
       "\t<tr><td>10.json                                                     </td><td>2010                                                        </td><td>US_v._Mitchell                                              </td><td>united-states-v-mitchell                                    </td><td>ca1                                                         </td><td>pdf/2010/02/22/US_v._Mitchell.pdf                           </td><td>/opinion/10/united-states-v-mitchell/                       </td><td>010combined                                                 </td><td>NA                                                          </td><td>NA                                                          </td><td>http://www.ca1.uscourts.gov/pdf.opinions/09-1260P-01A.pdf   </td><td>plain                                                       </td><td>TORRUELLA,                                                  </td><td>0                                                           </td><td>0                                                           </td><td>0                                                           </td><td>0                                                           </td></tr>\n",
       "\t<tr><td>1000.json                                                   </td><td>2010                                                        </td><td>Adams_v._Adams                                              </td><td>adams-v-adams                                               </td><td>ca1                                                         </td><td>pdf/2010/03/31/Adams_v._Adams.pdf                           </td><td>/opinion/1000/adams-v-adams/                                </td><td>010combined                                                 </td><td>NA                                                          </td><td>NA                                                          </td><td>http://www.ca1.uscourts.gov/pdf.opinions/09-1443P-01A.pdf   </td><td>plain                                                       </td><td>STAHL,                                                      </td><td>0                                                           </td><td>0                                                           </td><td>0                                                           </td><td>0                                                           </td></tr>\n",
       "\t<tr><td>1001.json                                                   </td><td>2010                                                        </td><td>Airframe_Systems_Inc._v._Raytheon_Company                   </td><td>airframe-systems-inc-v-raytheon-co                          </td><td>ca1                                                         </td><td>pdf/2010/03/31/Airframe_Systems_Inc._v._Raytheon_Company.pdf</td><td>/opinion/1001/airframe-systems-inc-v-raytheon-co/           </td><td>010combined                                                 </td><td>NA                                                          </td><td>NA                                                          </td><td>http://www.ca1.uscourts.gov/pdf.opinions/09-1624P-01A.pdf   </td><td>plain                                                       </td><td>LYNCH,                                                      </td><td>0                                                           </td><td>0                                                           </td><td>0                                                           </td><td>0                                                           </td></tr>\n",
       "\t<tr><td>1032057.json                                                </td><td>2013                                                        </td><td>united_states_v._hogan                                      </td><td>united-states-v-hogan                                       </td><td>ca1                                                         </td><td>pdf/2013/07/05/united_states_v._hogan.pdf                   </td><td>/opinion/1032057/united-states-v-hogan/                     </td><td>010combined                                                 </td><td>NA                                                          </td><td>NA                                                          </td><td>http://media.ca1.uscourts.gov/pdf.opinions/12-1039P-01A.pdf </td><td>plain                                                       </td><td>THOMPSON,                                                   </td><td>0                                                           </td><td>0                                                           </td><td>0                                                           </td><td>0                                                           </td></tr>\n",
       "\t<tr><td>1032437.json                                                </td><td>2013                                                        </td><td>mitchell_v._us_airways_inc.                                 </td><td>mitchell-v-us-airways-inc                                   </td><td>ca1                                                         </td><td>pdf/2013/07/09/mitchell_v._us_airways_inc..pdf              </td><td>/opinion/1032437/mitchell-v-us-airways-inc/                 </td><td>010combined                                                 </td><td>NA                                                          </td><td>NA                                                          </td><td>http://media.ca1.uscourts.gov/pdf.opinions/12-1543P-01A.pdf </td><td>plain                                                       </td><td>SELYA,                                                      </td><td>0                                                           </td><td>0                                                           </td><td>0                                                           </td><td>0                                                           </td></tr>\n",
       "</tbody>\n",
       "</table>\n"
      ],
      "text/latex": [
       "\\begin{tabular}{r|lllllllllllllllll}\n",
       " file\\_name & year & case\\_name & alt\\_case\\_name & circuit & local\\_path & absolute\\_url & type & author & joined\\_by & download\\_url & plain\\_text & judge & dissent & concurring & per\\_curiam & errata\\\\\n",
       "\\hline\n",
       "\t 1.json                                                           & 2010                                                             & US\\_v.\\_Davila-Gonzalez                                        & united-states-v-davila-gonzalez                                  & ca1                                                              & pdf/2010/02/10/US\\_v.\\_Davila-Gonzalez.pdf                     & /opinion/1/united-states-v-davila-gonzalez/                      & 010combined                                                      & NA                                                               & NA                                                               & http://www.ca1.uscourts.gov/pdf.opinions/08-2575P-01A.pdf        & plain                                                            & SELYA,                                                           & 0                                                                & 0                                                                & 0                                                                & 0                                                               \\\\\n",
       "\t 10.json                                                          & 2010                                                             & US\\_v.\\_Mitchell                                               & united-states-v-mitchell                                         & ca1                                                              & pdf/2010/02/22/US\\_v.\\_Mitchell.pdf                            & /opinion/10/united-states-v-mitchell/                            & 010combined                                                      & NA                                                               & NA                                                               & http://www.ca1.uscourts.gov/pdf.opinions/09-1260P-01A.pdf        & plain                                                            & TORRUELLA,                                                       & 0                                                                & 0                                                                & 0                                                                & 0                                                               \\\\\n",
       "\t 1000.json                                                        & 2010                                                             & Adams\\_v.\\_Adams                                               & adams-v-adams                                                    & ca1                                                              & pdf/2010/03/31/Adams\\_v.\\_Adams.pdf                            & /opinion/1000/adams-v-adams/                                     & 010combined                                                      & NA                                                               & NA                                                               & http://www.ca1.uscourts.gov/pdf.opinions/09-1443P-01A.pdf        & plain                                                            & STAHL,                                                           & 0                                                                & 0                                                                & 0                                                                & 0                                                               \\\\\n",
       "\t 1001.json                                                              & 2010                                                                   & Airframe\\_Systems\\_Inc.\\_v.\\_Raytheon\\_Company                    & airframe-systems-inc-v-raytheon-co                                     & ca1                                                                    & pdf/2010/03/31/Airframe\\_Systems\\_Inc.\\_v.\\_Raytheon\\_Company.pdf & /opinion/1001/airframe-systems-inc-v-raytheon-co/                      & 010combined                                                            & NA                                                                     & NA                                                                     & http://www.ca1.uscourts.gov/pdf.opinions/09-1624P-01A.pdf              & plain                                                                  & LYNCH,                                                                 & 0                                                                      & 0                                                                      & 0                                                                      & 0                                                                     \\\\\n",
       "\t 1032057.json                                                       & 2013                                                               & united\\_states\\_v.\\_hogan                                       & united-states-v-hogan                                              & ca1                                                                & pdf/2013/07/05/united\\_states\\_v.\\_hogan.pdf                    & /opinion/1032057/united-states-v-hogan/                            & 010combined                                                        & NA                                                                 & NA                                                                 & http://media.ca1.uscourts.gov/pdf.opinions/12-1039P-01A.pdf        & plain                                                              & THOMPSON,                                                          & 0                                                                  & 0                                                                  & 0                                                                  & 0                                                                 \\\\\n",
       "\t 1032437.json                                                         & 2013                                                                 & mitchell\\_v.\\_us\\_airways\\_inc.                                  & mitchell-v-us-airways-inc                                            & ca1                                                                  & pdf/2013/07/09/mitchell\\_v.\\_us\\_airways\\_inc..pdf               & /opinion/1032437/mitchell-v-us-airways-inc/                          & 010combined                                                          & NA                                                                   & NA                                                                   & http://media.ca1.uscourts.gov/pdf.opinions/12-1543P-01A.pdf          & plain                                                                & SELYA,                                                               & 0                                                                    & 0                                                                    & 0                                                                    & 0                                                                   \\\\\n",
       "\\end{tabular}\n"
      ],
      "text/markdown": [
       "\n",
       "| file_name | year | case_name | alt_case_name | circuit | local_path | absolute_url | type | author | joined_by | download_url | plain_text | judge | dissent | concurring | per_curiam | errata |\n",
       "|---|---|---|---|---|---|---|---|---|---|---|---|---|---|---|---|---|\n",
       "| 1.json                                                       | 2010                                                         | US_v._Davila-Gonzalez                                        | united-states-v-davila-gonzalez                              | ca1                                                          | pdf/2010/02/10/US_v._Davila-Gonzalez.pdf                     | /opinion/1/united-states-v-davila-gonzalez/                  | 010combined                                                  | NA                                                           | NA                                                           | http://www.ca1.uscourts.gov/pdf.opinions/08-2575P-01A.pdf    | plain                                                        | SELYA,                                                       | 0                                                            | 0                                                            | 0                                                            | 0                                                            |\n",
       "| 10.json                                                      | 2010                                                         | US_v._Mitchell                                               | united-states-v-mitchell                                     | ca1                                                          | pdf/2010/02/22/US_v._Mitchell.pdf                            | /opinion/10/united-states-v-mitchell/                        | 010combined                                                  | NA                                                           | NA                                                           | http://www.ca1.uscourts.gov/pdf.opinions/09-1260P-01A.pdf    | plain                                                        | TORRUELLA,                                                   | 0                                                            | 0                                                            | 0                                                            | 0                                                            |\n",
       "| 1000.json                                                    | 2010                                                         | Adams_v._Adams                                               | adams-v-adams                                                | ca1                                                          | pdf/2010/03/31/Adams_v._Adams.pdf                            | /opinion/1000/adams-v-adams/                                 | 010combined                                                  | NA                                                           | NA                                                           | http://www.ca1.uscourts.gov/pdf.opinions/09-1443P-01A.pdf    | plain                                                        | STAHL,                                                       | 0                                                            | 0                                                            | 0                                                            | 0                                                            |\n",
       "| 1001.json                                                    | 2010                                                         | Airframe_Systems_Inc._v._Raytheon_Company                    | airframe-systems-inc-v-raytheon-co                           | ca1                                                          | pdf/2010/03/31/Airframe_Systems_Inc._v._Raytheon_Company.pdf | /opinion/1001/airframe-systems-inc-v-raytheon-co/            | 010combined                                                  | NA                                                           | NA                                                           | http://www.ca1.uscourts.gov/pdf.opinions/09-1624P-01A.pdf    | plain                                                        | LYNCH,                                                       | 0                                                            | 0                                                            | 0                                                            | 0                                                            |\n",
       "| 1032057.json                                                 | 2013                                                         | united_states_v._hogan                                       | united-states-v-hogan                                        | ca1                                                          | pdf/2013/07/05/united_states_v._hogan.pdf                    | /opinion/1032057/united-states-v-hogan/                      | 010combined                                                  | NA                                                           | NA                                                           | http://media.ca1.uscourts.gov/pdf.opinions/12-1039P-01A.pdf  | plain                                                        | THOMPSON,                                                    | 0                                                            | 0                                                            | 0                                                            | 0                                                            |\n",
       "| 1032437.json                                                 | 2013                                                         | mitchell_v._us_airways_inc.                                  | mitchell-v-us-airways-inc                                    | ca1                                                          | pdf/2013/07/09/mitchell_v._us_airways_inc..pdf               | /opinion/1032437/mitchell-v-us-airways-inc/                  | 010combined                                                  | NA                                                           | NA                                                           | http://media.ca1.uscourts.gov/pdf.opinions/12-1543P-01A.pdf  | plain                                                        | SELYA,                                                       | 0                                                            | 0                                                            | 0                                                            | 0                                                            |\n",
       "\n"
      ],
      "text/plain": [
       "  file_name    year case_name                                \n",
       "1 1.json       2010 US_v._Davila-Gonzalez                    \n",
       "2 10.json      2010 US_v._Mitchell                           \n",
       "3 1000.json    2010 Adams_v._Adams                           \n",
       "4 1001.json    2010 Airframe_Systems_Inc._v._Raytheon_Company\n",
       "5 1032057.json 2013 united_states_v._hogan                   \n",
       "6 1032437.json 2013 mitchell_v._us_airways_inc.              \n",
       "  alt_case_name                      circuit\n",
       "1 united-states-v-davila-gonzalez    ca1    \n",
       "2 united-states-v-mitchell           ca1    \n",
       "3 adams-v-adams                      ca1    \n",
       "4 airframe-systems-inc-v-raytheon-co ca1    \n",
       "5 united-states-v-hogan              ca1    \n",
       "6 mitchell-v-us-airways-inc          ca1    \n",
       "  local_path                                                  \n",
       "1 pdf/2010/02/10/US_v._Davila-Gonzalez.pdf                    \n",
       "2 pdf/2010/02/22/US_v._Mitchell.pdf                           \n",
       "3 pdf/2010/03/31/Adams_v._Adams.pdf                           \n",
       "4 pdf/2010/03/31/Airframe_Systems_Inc._v._Raytheon_Company.pdf\n",
       "5 pdf/2013/07/05/united_states_v._hogan.pdf                   \n",
       "6 pdf/2013/07/09/mitchell_v._us_airways_inc..pdf              \n",
       "  absolute_url                                      type        author\n",
       "1 /opinion/1/united-states-v-davila-gonzalez/       010combined NA    \n",
       "2 /opinion/10/united-states-v-mitchell/             010combined NA    \n",
       "3 /opinion/1000/adams-v-adams/                      010combined NA    \n",
       "4 /opinion/1001/airframe-systems-inc-v-raytheon-co/ 010combined NA    \n",
       "5 /opinion/1032057/united-states-v-hogan/           010combined NA    \n",
       "6 /opinion/1032437/mitchell-v-us-airways-inc/       010combined NA    \n",
       "  joined_by download_url                                               \n",
       "1 NA        http://www.ca1.uscourts.gov/pdf.opinions/08-2575P-01A.pdf  \n",
       "2 NA        http://www.ca1.uscourts.gov/pdf.opinions/09-1260P-01A.pdf  \n",
       "3 NA        http://www.ca1.uscourts.gov/pdf.opinions/09-1443P-01A.pdf  \n",
       "4 NA        http://www.ca1.uscourts.gov/pdf.opinions/09-1624P-01A.pdf  \n",
       "5 NA        http://media.ca1.uscourts.gov/pdf.opinions/12-1039P-01A.pdf\n",
       "6 NA        http://media.ca1.uscourts.gov/pdf.opinions/12-1543P-01A.pdf\n",
       "  plain_text judge      dissent concurring per_curiam errata\n",
       "1 plain      SELYA,     0       0          0          0     \n",
       "2 plain      TORRUELLA, 0       0          0          0     \n",
       "3 plain      STAHL,     0       0          0          0     \n",
       "4 plain      LYNCH,     0       0          0          0     \n",
       "5 plain      THOMPSON,  0       0          0          0     \n",
       "6 plain      SELYA,     0       0          0          0     "
      ]
     },
     "metadata": {},
     "output_type": "display_data"
    }
   ],
   "source": [
    "head(df)"
   ]
  },
  {
   "cell_type": "code",
   "execution_count": 15,
   "metadata": {},
   "outputs": [
    {
     "data": {
      "text/html": [
       "34834"
      ],
      "text/latex": [
       "34834"
      ],
      "text/markdown": [
       "34834"
      ],
      "text/plain": [
       "[1] 34834"
      ]
     },
     "metadata": {},
     "output_type": "display_data"
    }
   ],
   "source": [
    "nrow(df)"
   ]
  },
  {
   "cell_type": "code",
   "execution_count": 16,
   "metadata": {},
   "outputs": [
    {
     "data": {
      "text/html": [
       "21190"
      ],
      "text/latex": [
       "21190"
      ],
      "text/markdown": [
       "21190"
      ],
      "text/plain": [
       "[1] 21190"
      ]
     },
     "metadata": {},
     "output_type": "display_data"
    }
   ],
   "source": [
    "sum(is.na(df$year))"
   ]
  },
  {
   "cell_type": "code",
   "execution_count": 17,
   "metadata": {},
   "outputs": [
    {
     "data": {
      "text/html": [
       "21190"
      ],
      "text/latex": [
       "21190"
      ],
      "text/markdown": [
       "21190"
      ],
      "text/plain": [
       "[1] 21190"
      ]
     },
     "metadata": {},
     "output_type": "display_data"
    }
   ],
   "source": [
    "sum(is.na(df$local_path))"
   ]
  },
  {
   "cell_type": "code",
   "execution_count": 18,
   "metadata": {},
   "outputs": [
    {
     "data": {
      "text/html": [
       "1102"
      ],
      "text/latex": [
       "1102"
      ],
      "text/markdown": [
       "1102"
      ],
      "text/plain": [
       "[1] 1102"
      ]
     },
     "metadata": {},
     "output_type": "display_data"
    }
   ],
   "source": [
    "sum(is.na(df$plain_text))"
   ]
  },
  {
   "cell_type": "markdown",
   "metadata": {},
   "source": [
    "## Text Model"
   ]
  },
  {
   "cell_type": "markdown",
   "metadata": {},
   "source": [
    "![doc2vec](Progress_Reports/images/doc2vec.png)"
   ]
  },
  {
   "cell_type": "markdown",
   "metadata": {},
   "source": [
    "## Analysis"
   ]
  },
  {
   "cell_type": "markdown",
   "metadata": {},
   "source": [
    "Average document vectors for each judge then plot.\n",
    "Only keep judge if more than 100 opinions are available. (25 judges)"
   ]
  },
  {
   "cell_type": "code",
   "execution_count": 19,
   "metadata": {},
   "outputs": [
    {
     "data": {
      "text/html": [
       "<table>\n",
       "<thead><tr><th scope=col>Judge</th><th scope=col>Judge.full</th><th scope=col>Born</th><th scope=col>Active</th><th scope=col>Appointed.By</th><th scope=col>X</th></tr></thead>\n",
       "<tbody>\n",
       "\t<tr><td>putnam                  </td><td>William LeBaron Putnam  </td><td>1835                    </td><td>1892–1917               </td><td>B. Harrison             </td><td>0                       </td></tr>\n",
       "\t<tr><td>colt                    </td><td>LeBaron B. Colt         </td><td>1846                    </td><td>1891–1913[Note 1]       </td><td>Arthur                  </td><td>0                       </td></tr>\n",
       "\t<tr><td>dodge                   </td><td>Frederic Dodge          </td><td>1847                    </td><td>1912–1918               </td><td>Taft                    </td><td>0                       </td></tr>\n",
       "\t<tr><td>lowell                  </td><td>Francis Cabot Lowell    </td><td>1855                    </td><td>1905–1911               </td><td>T. Roosevelt            </td><td>0                       </td></tr>\n",
       "\t<tr><td>schofield               </td><td>William Schofield       </td><td>1857                    </td><td>1911–1912               </td><td>Taft                    </td><td>0                       </td></tr>\n",
       "\t<tr><td>johnson                 </td><td>Charles Fletcher Johnson</td><td>1859                    </td><td>1917–1929               </td><td>Wilson                  </td><td>1                       </td></tr>\n",
       "\t<tr><td>anderson                </td><td>George Weston Anderson  </td><td>1861                    </td><td>1918–1931               </td><td>Wilson                  </td><td>0                       </td></tr>\n",
       "\t<tr><td>bingham                 </td><td>George Hutchins Bingham </td><td>1864                    </td><td>1913–1939               </td><td>Wilson                  </td><td>1                       </td></tr>\n",
       "\t<tr><td>morton                  </td><td>James Madison Morton Jr.</td><td>1869                    </td><td>1932–1939               </td><td>Hoover                  </td><td>1                       </td></tr>\n",
       "\t<tr><td>wilson                  </td><td>Scott Wilson            </td><td>1870                    </td><td>1929–1940               </td><td>Hoover                  </td><td>1                       </td></tr>\n",
       "\t<tr><td>mahoney                 </td><td>John Christopher Mahoney</td><td>1882                    </td><td>1940–1950               </td><td>F. Roosevelt            </td><td>1                       </td></tr>\n",
       "\t<tr><td>hartigan                </td><td>John Patrick Hartigan   </td><td>1887                    </td><td>1950–1965               </td><td>Truman                  </td><td>1                       </td></tr>\n",
       "\t<tr><td>magruder                </td><td>Calvert Magruder        </td><td>1893                    </td><td>1939–1959               </td><td>F. Roosevelt            </td><td>1                       </td></tr>\n",
       "\t<tr><td>woodbury                </td><td>Peter Woodbury          </td><td>1899                    </td><td>1941–1964               </td><td>F. Roosevelt            </td><td>1                       </td></tr>\n",
       "\t<tr><td>mcentee                 </td><td>Edward Matthew McEntee  </td><td>1906                    </td><td>1965–1976               </td><td>L. Johnson              </td><td>1                       </td></tr>\n",
       "\t<tr><td>aldrich                 </td><td>Bailey Aldrich          </td><td>1907                    </td><td>1959–1972               </td><td>Eisenhower              </td><td>1                       </td></tr>\n",
       "\t<tr><td>coffin                  </td><td>Frank M. Coffin         </td><td>1919                    </td><td>1965–1989               </td><td>L. Johnson              </td><td>1                       </td></tr>\n",
       "\t<tr><td>bownes                  </td><td>Hugh Henry Bownes       </td><td>1920                    </td><td>1977–1990               </td><td>Carter                  </td><td>1                       </td></tr>\n",
       "\t<tr><td>campbell                </td><td>Levin H. Campbell       </td><td>1927                    </td><td>1972–1992               </td><td>Nixon                   </td><td>1                       </td></tr>\n",
       "\t<tr><td>stahl                   </td><td>Norman H. Stahl         </td><td>1931                    </td><td>1992–2001               </td><td>G.H.W. Bush             </td><td>1                       </td></tr>\n",
       "\t<tr><td>cyr                     </td><td>Conrad K. Cyr           </td><td>1931                    </td><td>1989–1997               </td><td>G.H.W. Bush             </td><td>1                       </td></tr>\n",
       "\t<tr><td>torruella               </td><td>Juan R. Torruella       </td><td>1933                    </td><td>1984–present            </td><td>Reagan                  </td><td>1                       </td></tr>\n",
       "\t<tr><td>selya                   </td><td>Bruce M. Selya          </td><td>1934                    </td><td>1986–2006               </td><td>Reagan                  </td><td>1                       </td></tr>\n",
       "\t<tr><td>breyer                  </td><td>Stephen Breyer          </td><td>1938                    </td><td>1980–1994               </td><td>Carter                  </td><td>1                       </td></tr>\n",
       "\t<tr><td>boudin                  </td><td>Michael Boudin          </td><td>1939                    </td><td>1992–2013               </td><td>G.H.W. Bush             </td><td>1                       </td></tr>\n",
       "\t<tr><td>souter                  </td><td>David Souter            </td><td>1939                    </td><td>1990                    </td><td>G.H.W. Bush             </td><td>0                       </td></tr>\n",
       "\t<tr><td>lipez                   </td><td>Kermit Lipez            </td><td>1941                    </td><td>1998–2011               </td><td>Clinton                 </td><td>1                       </td></tr>\n",
       "\t<tr><td>lynch                   </td><td>Sandra Lynch            </td><td>1946                    </td><td>1995–present            </td><td>Clinton                 </td><td>1                       </td></tr>\n",
       "\t<tr><td>thompson                </td><td>O. Rogeriee Thompson    </td><td>1951                    </td><td>2010–present            </td><td>Obama                   </td><td>1                       </td></tr>\n",
       "\t<tr><td>kayatta                 </td><td>William J. Kayatta Jr.  </td><td>1953                    </td><td>2013–present            </td><td>Obama                   </td><td>1                       </td></tr>\n",
       "</tbody>\n",
       "</table>\n"
      ],
      "text/latex": [
       "\\begin{tabular}{r|llllll}\n",
       " Judge & Judge.full & Born & Active & Appointed.By & X\\\\\n",
       "\\hline\n",
       "\t putnam                   & William LeBaron Putnam   & 1835                     & 1892–1917                & B. Harrison              & 0                       \\\\\n",
       "\t colt                     & LeBaron B. Colt          & 1846                     & 1891–1913{[}Note 1{]}    & Arthur                   & 0                       \\\\\n",
       "\t dodge                    & Frederic Dodge           & 1847                     & 1912–1918                & Taft                     & 0                       \\\\\n",
       "\t lowell                   & Francis Cabot Lowell     & 1855                     & 1905–1911                & T. Roosevelt             & 0                       \\\\\n",
       "\t schofield                & William Schofield        & 1857                     & 1911–1912                & Taft                     & 0                       \\\\\n",
       "\t johnson                  & Charles Fletcher Johnson & 1859                     & 1917–1929                & Wilson                   & 1                       \\\\\n",
       "\t anderson                 & George Weston Anderson   & 1861                     & 1918–1931                & Wilson                   & 0                       \\\\\n",
       "\t bingham                  & George Hutchins Bingham  & 1864                     & 1913–1939                & Wilson                   & 1                       \\\\\n",
       "\t morton                   & James Madison Morton Jr. & 1869                     & 1932–1939                & Hoover                   & 1                       \\\\\n",
       "\t wilson                   & Scott Wilson             & 1870                     & 1929–1940                & Hoover                   & 1                       \\\\\n",
       "\t mahoney                  & John Christopher Mahoney & 1882                     & 1940–1950                & F. Roosevelt             & 1                       \\\\\n",
       "\t hartigan                 & John Patrick Hartigan    & 1887                     & 1950–1965                & Truman                   & 1                       \\\\\n",
       "\t magruder                 & Calvert Magruder         & 1893                     & 1939–1959                & F. Roosevelt             & 1                       \\\\\n",
       "\t woodbury                 & Peter Woodbury           & 1899                     & 1941–1964                & F. Roosevelt             & 1                       \\\\\n",
       "\t mcentee                  & Edward Matthew McEntee   & 1906                     & 1965–1976                & L. Johnson               & 1                       \\\\\n",
       "\t aldrich                  & Bailey Aldrich           & 1907                     & 1959–1972                & Eisenhower               & 1                       \\\\\n",
       "\t coffin                   & Frank M. Coffin          & 1919                     & 1965–1989                & L. Johnson               & 1                       \\\\\n",
       "\t bownes                   & Hugh Henry Bownes        & 1920                     & 1977–1990                & Carter                   & 1                       \\\\\n",
       "\t campbell                 & Levin H. Campbell        & 1927                     & 1972–1992                & Nixon                    & 1                       \\\\\n",
       "\t stahl                    & Norman H. Stahl          & 1931                     & 1992–2001                & G.H.W. Bush              & 1                       \\\\\n",
       "\t cyr                      & Conrad K. Cyr            & 1931                     & 1989–1997                & G.H.W. Bush              & 1                       \\\\\n",
       "\t torruella                & Juan R. Torruella        & 1933                     & 1984–present             & Reagan                   & 1                       \\\\\n",
       "\t selya                    & Bruce M. Selya           & 1934                     & 1986–2006                & Reagan                   & 1                       \\\\\n",
       "\t breyer                   & Stephen Breyer           & 1938                     & 1980–1994                & Carter                   & 1                       \\\\\n",
       "\t boudin                   & Michael Boudin           & 1939                     & 1992–2013                & G.H.W. Bush              & 1                       \\\\\n",
       "\t souter                   & David Souter             & 1939                     & 1990                     & G.H.W. Bush              & 0                       \\\\\n",
       "\t lipez                    & Kermit Lipez             & 1941                     & 1998–2011                & Clinton                  & 1                       \\\\\n",
       "\t lynch                    & Sandra Lynch             & 1946                     & 1995–present             & Clinton                  & 1                       \\\\\n",
       "\t thompson                 & O. Rogeriee Thompson     & 1951                     & 2010–present             & Obama                    & 1                       \\\\\n",
       "\t kayatta                  & William J. Kayatta Jr.   & 1953                     & 2013–present             & Obama                    & 1                       \\\\\n",
       "\\end{tabular}\n"
      ],
      "text/markdown": [
       "\n",
       "| Judge | Judge.full | Born | Active | Appointed.By | X |\n",
       "|---|---|---|---|---|---|\n",
       "| putnam                   | William LeBaron Putnam   | 1835                     | 1892–1917                | B. Harrison              | 0                        |\n",
       "| colt                     | LeBaron B. Colt          | 1846                     | 1891–1913[Note 1]        | Arthur                   | 0                        |\n",
       "| dodge                    | Frederic Dodge           | 1847                     | 1912–1918                | Taft                     | 0                        |\n",
       "| lowell                   | Francis Cabot Lowell     | 1855                     | 1905–1911                | T. Roosevelt             | 0                        |\n",
       "| schofield                | William Schofield        | 1857                     | 1911–1912                | Taft                     | 0                        |\n",
       "| johnson                  | Charles Fletcher Johnson | 1859                     | 1917–1929                | Wilson                   | 1                        |\n",
       "| anderson                 | George Weston Anderson   | 1861                     | 1918–1931                | Wilson                   | 0                        |\n",
       "| bingham                  | George Hutchins Bingham  | 1864                     | 1913–1939                | Wilson                   | 1                        |\n",
       "| morton                   | James Madison Morton Jr. | 1869                     | 1932–1939                | Hoover                   | 1                        |\n",
       "| wilson                   | Scott Wilson             | 1870                     | 1929–1940                | Hoover                   | 1                        |\n",
       "| mahoney                  | John Christopher Mahoney | 1882                     | 1940–1950                | F. Roosevelt             | 1                        |\n",
       "| hartigan                 | John Patrick Hartigan    | 1887                     | 1950–1965                | Truman                   | 1                        |\n",
       "| magruder                 | Calvert Magruder         | 1893                     | 1939–1959                | F. Roosevelt             | 1                        |\n",
       "| woodbury                 | Peter Woodbury           | 1899                     | 1941–1964                | F. Roosevelt             | 1                        |\n",
       "| mcentee                  | Edward Matthew McEntee   | 1906                     | 1965–1976                | L. Johnson               | 1                        |\n",
       "| aldrich                  | Bailey Aldrich           | 1907                     | 1959–1972                | Eisenhower               | 1                        |\n",
       "| coffin                   | Frank M. Coffin          | 1919                     | 1965–1989                | L. Johnson               | 1                        |\n",
       "| bownes                   | Hugh Henry Bownes        | 1920                     | 1977–1990                | Carter                   | 1                        |\n",
       "| campbell                 | Levin H. Campbell        | 1927                     | 1972–1992                | Nixon                    | 1                        |\n",
       "| stahl                    | Norman H. Stahl          | 1931                     | 1992–2001                | G.H.W. Bush              | 1                        |\n",
       "| cyr                      | Conrad K. Cyr            | 1931                     | 1989–1997                | G.H.W. Bush              | 1                        |\n",
       "| torruella                | Juan R. Torruella        | 1933                     | 1984–present             | Reagan                   | 1                        |\n",
       "| selya                    | Bruce M. Selya           | 1934                     | 1986–2006                | Reagan                   | 1                        |\n",
       "| breyer                   | Stephen Breyer           | 1938                     | 1980–1994                | Carter                   | 1                        |\n",
       "| boudin                   | Michael Boudin           | 1939                     | 1992–2013                | G.H.W. Bush              | 1                        |\n",
       "| souter                   | David Souter             | 1939                     | 1990                     | G.H.W. Bush              | 0                        |\n",
       "| lipez                    | Kermit Lipez             | 1941                     | 1998–2011                | Clinton                  | 1                        |\n",
       "| lynch                    | Sandra Lynch             | 1946                     | 1995–present             | Clinton                  | 1                        |\n",
       "| thompson                 | O. Rogeriee Thompson     | 1951                     | 2010–present             | Obama                    | 1                        |\n",
       "| kayatta                  | William J. Kayatta Jr.   | 1953                     | 2013–present             | Obama                    | 1                        |\n",
       "\n"
      ],
      "text/plain": [
       "   Judge     Judge.full               Born Active            Appointed.By X\n",
       "1  putnam    William LeBaron Putnam   1835 1892–1917         B. Harrison  0\n",
       "2  colt      LeBaron B. Colt          1846 1891–1913[Note 1] Arthur       0\n",
       "3  dodge     Frederic Dodge           1847 1912–1918         Taft         0\n",
       "4  lowell    Francis Cabot Lowell     1855 1905–1911         T. Roosevelt 0\n",
       "5  schofield William Schofield        1857 1911–1912         Taft         0\n",
       "6  johnson   Charles Fletcher Johnson 1859 1917–1929         Wilson       1\n",
       "7  anderson  George Weston Anderson   1861 1918–1931         Wilson       0\n",
       "8  bingham   George Hutchins Bingham  1864 1913–1939         Wilson       1\n",
       "9  morton    James Madison Morton Jr. 1869 1932–1939         Hoover       1\n",
       "10 wilson    Scott Wilson             1870 1929–1940         Hoover       1\n",
       "11 mahoney   John Christopher Mahoney 1882 1940–1950         F. Roosevelt 1\n",
       "12 hartigan  John Patrick Hartigan    1887 1950–1965         Truman       1\n",
       "13 magruder  Calvert Magruder         1893 1939–1959         F. Roosevelt 1\n",
       "14 woodbury  Peter Woodbury           1899 1941–1964         F. Roosevelt 1\n",
       "15 mcentee   Edward Matthew McEntee   1906 1965–1976         L. Johnson   1\n",
       "16 aldrich   Bailey Aldrich           1907 1959–1972         Eisenhower   1\n",
       "17 coffin    Frank M. Coffin          1919 1965–1989         L. Johnson   1\n",
       "18 bownes    Hugh Henry Bownes        1920 1977–1990         Carter       1\n",
       "19 campbell  Levin H. Campbell        1927 1972–1992         Nixon        1\n",
       "20 stahl     Norman H. Stahl          1931 1992–2001         G.H.W. Bush  1\n",
       "21 cyr       Conrad K. Cyr            1931 1989–1997         G.H.W. Bush  1\n",
       "22 torruella Juan R. Torruella        1933 1984–present      Reagan       1\n",
       "23 selya     Bruce M. Selya           1934 1986–2006         Reagan       1\n",
       "24 breyer    Stephen Breyer           1938 1980–1994         Carter       1\n",
       "25 boudin    Michael Boudin           1939 1992–2013         G.H.W. Bush  1\n",
       "26 souter    David Souter             1939 1990              G.H.W. Bush  0\n",
       "27 lipez     Kermit Lipez             1941 1998–2011         Clinton      1\n",
       "28 lynch     Sandra Lynch             1946 1995–present      Clinton      1\n",
       "29 thompson  O. Rogeriee Thompson     1951 2010–present      Obama        1\n",
       "30 kayatta   William J. Kayatta Jr.   1953 2013–present      Obama        1"
      ]
     },
     "metadata": {},
     "output_type": "display_data"
    }
   ],
   "source": [
    "# Load Data\n",
    "judge_meta = read.csv(file='ca1_Judge_Metadata.csv')\n",
    "head(judge_meta,30)"
   ]
  },
  {
   "cell_type": "markdown",
   "metadata": {},
   "source": [
    "![pca](Progress_Reports/images/pca.png)"
   ]
  },
  {
   "cell_type": "markdown",
   "metadata": {},
   "source": [
    "Next: de-mean by decade, circuit court, THEN average by judge.\n",
    "\n",
    "If possible, de-mean by topic as well."
   ]
  },
  {
   "cell_type": "markdown",
   "metadata": {},
   "source": [
    "## Code Schema"
   ]
  },
  {
   "cell_type": "markdown",
   "metadata": {},
   "source": [
    "![schema](Progress_Reports/images/schema.png)"
   ]
  },
  {
   "cell_type": "code",
   "execution_count": null,
   "metadata": {},
   "outputs": [],
   "source": []
  }
 ],
 "metadata": {
  "kernelspec": {
   "display_name": "R",
   "language": "R",
   "name": "ir"
  },
  "language_info": {
   "codemirror_mode": "r",
   "file_extension": ".r",
   "mimetype": "text/x-r-source",
   "name": "R",
   "pygments_lexer": "r",
   "version": "3.5.2"
  }
 },
 "nbformat": 4,
 "nbformat_minor": 2
}
