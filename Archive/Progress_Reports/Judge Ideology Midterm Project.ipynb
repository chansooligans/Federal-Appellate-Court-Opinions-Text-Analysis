{
 "cells": [
  {
   "cell_type": "code",
   "execution_count": 1,
   "metadata": {},
   "outputs": [],
   "source": [
    "setwd('/Users/chansoosong/Desktop/Research/edsp2019project-chansooligans/Archive/Progress_Reports/')\n",
    "library(rjson)\n",
    "library(stringr)"
   ]
  },
  {
   "cell_type": "markdown",
   "metadata": {},
   "source": [
    "# Measuring Judge Ideology"
   ]
  },
  {
   "cell_type": "markdown",
   "metadata": {},
   "source": [
    "![Martin_Quinn](https://mqscores.lsa.umich.edu/images/ipAnim1937_2006.gif)\n",
    "\n",
    "Standard IRT model with discrimination parameter (gamma):\n",
    "\n",
    "So this is a simpler, non-dynamic version of Martin-Quinn's estimation. Only difference is that ideology is assumed constant over time.\n",
    "\n",
    "For this simplified example, suppose outcome, y, has been coded so that 1 = conservative vote and 0 = liberal vote.\n",
    "\n",
    "![Image1](images/img1.png)"
   ]
  },
  {
   "cell_type": "markdown",
   "metadata": {},
   "source": [
    "## Plan:\n",
    "\n",
    "1. Get the data\n",
    "2. Collect metadata\n",
    "3. Clean the data\n",
    "4. Get vector representations for documents\n",
    "5. Create vector representations for judges\n",
    "6. Using the metadata, plot the principal components of the vector representations \n",
    "\n"
   ]
  },
  {
   "cell_type": "markdown",
   "metadata": {},
   "source": [
    "### Problem 1: \"plain_text\", \"html\", \"html_lawbox\", \"html_columbia\", \"html_with_citations\" each contain opinions with different styles\n",
    "\n",
    "- Opinions are stored in JSON under several different keys\n",
    "- Each key stores text in different styles (e.g. html tags may be different)"
   ]
  },
  {
   "cell_type": "code",
   "execution_count": 2,
   "metadata": {},
   "outputs": [
    {
     "name": "stdout",
     "output_type": "stream",
     "text": [
      "List of 21\n",
      " $ resource_uri       : chr \"http://www.courtlistener.com/api/rest/v3/opinions/1036108/\"\n",
      " $ absolute_url       : chr \"/opinion/1036108/manning-v-boston-medical-center/\"\n",
      " $ cluster            : chr \"http://www.courtlistener.com/api/rest/v3/clusters/1036108/\"\n",
      " $ author             : NULL\n",
      " $ joined_by          : list()\n",
      " $ author_str         : chr \"\"\n",
      " $ per_curiam         : logi FALSE\n",
      " $ date_created       : chr \"2013-08-01T21:05:37.076430Z\"\n",
      " $ date_modified      : chr \"2017-03-28T13:06:54.959623Z\"\n",
      " $ type               : chr \"010combined\"\n",
      " $ sha1               : chr \"2ab04ba7e11cba1db185ccda5e4c4f447b569732\"\n",
      " $ page_count         : num 65\n",
      " $ download_url       : chr \"http://media.ca1.uscourts.gov/pdf.opinions/12-1573P-01A.pdf\"\n",
      " $ local_path         : chr \"pdf/2013/08/01/manning_v._boston_medical_center.pdf\"\n",
      " $ plain_text         : chr \"          United States Court of Appeals\\n                        For the First Circuit\\n\\n\\nNos. 12-1573, 12-1\"| __truncated__\n",
      " $ html               : chr \"\"\n",
      " $ html_lawbox        : chr \"\"\n",
      " $ html_columbia      : NULL\n",
      " $ html_with_citations: chr \"<pre class=\\\"inline\\\">          United States Court of Appeals\\n                        For the First Circuit\\n\"| __truncated__\n",
      " $ extracted_by_ocr   : logi FALSE\n",
      " $ opinions_cited     : chr [1:47] \"http://www.courtlistener.com/api/rest/v3/opinions/27/\" \"http://www.courtlistener.com/api/rest/v3/opinions/103958/\" \"http://www.courtlistener.com/api/rest/v3/opinions/110441/\" \"http://www.courtlistener.com/api/rest/v3/opinions/110737/\" ...\n"
     ]
    }
   ],
   "source": [
    "file_names = list.files('data/')\n",
    "opinions = list()\n",
    "example1 = fromJSON(file='data/2448.json')\n",
    "for(i in 1:length(file_names)) opinions[[i]] = fromJSON(file=paste('data/',file_names[i],sep=''))\n",
    "str(opinions[[1]])"
   ]
  },
  {
   "cell_type": "code",
   "execution_count": 3,
   "metadata": {},
   "outputs": [],
   "source": [
    "print_some_lines = function(x,n_lines) {\n",
    "    print(paste('plain_text:',substr(x$plain_text,0,n_lines)))\n",
    "    print(paste('html:',substr(x$html,0,n_lines)))\n",
    "    print(paste('html_columbia:',substr(x$html_columbia,0,n_lines)))\n",
    "    print(paste('html_with_citations:',substr(x$html_with_citations,0,n_lines)))\n",
    "}"
   ]
  },
  {
   "cell_type": "code",
   "execution_count": 4,
   "metadata": {
    "scrolled": true
   },
   "outputs": [
    {
     "name": "stdout",
     "output_type": "stream",
     "text": [
      "[1] \"plain_text:           United States Court of Appeals\\n                        For the First Circuit\\n\\n\\nNos. 12-1573, 12-1653\\n\\n                    ELIZABETH MANNING ET AL.,\\n\\n                        Plaintiffs, Appellants,\\n\\n                                  v.\\n\\n               BOSTON MEDICAL CENTER CORPORATION;\\n                  ELAINE ULLIAN; JAMES CANAVAN,\\n\\n                        Defendants, Appellees,\\n\\n  BOSTON REGIONAL MEDICAL CENTER, INC.; BOSTON REGIONAL MEDICAL\\n     CENTER, LLC; BOSTON MEDICAL CENTER 403B RETIREMENT PLAN,\\n\\n                              Defendants.\\n\\n\\n          APPEAL FROM THE UNITED STATES DISTRICT COURT\\n                FOR THE DISTRICT OF MASSACHUSETTS\\n\\n            [Hon. Rya W. Zobel, U.S. District Judge]\\n\\n\\n                                Before\\n\\n                   Thompson, Stahl, and Lipez,\\n                         Circuit Judges.\\n\\n\\n     Guy A. Talia, with whom Patrick J. Solomon and Thomas &\\nSolomon LLP were on brief, for appellants.\\n     C.J. Eaton, with whom Richard L. Alfred, Kristin G. McGurn,\\nJessica M. Schauer, and Seyfarth Shaw LLP were on brief, for\\nappellees.\\n\\n\\n\\n                            August 1, 2013\\n\\f            LIPEZ, Circuit Judge. Plaintiffs Elizabeth Manning, Lisa\\n\\nRivers, Rhonda Williams, and Reva McCarthy bring this wage-and-hour\\n\\naction    against    defendants      Boston    Medical      Center   Corporation\\n\\n(\\\"BMC\\\"), Elaine Ullian, and James Canavan.             Current and former BMC\\n\\nemployees, plaintiffs allege that defendants deprived them of their\\n\\nwages through the use of timekeeping policies and employment\\n\\npractices that required them to work through their meal and rest\\n\\nperiods, put in extra work time before and after their regularly\\n\\nscheduled work shifts, and attend mandatory training sessions. The\\n\\ncomplaint asserts causes of action under the Fair Labor Standards\\n\\nAct (\\\"FLSA\\\") and Massachusetts common law for recovery of their\\n\\nunpaid wages.      Plaintiffs also seek certification of a collective\\n\\naction pursuant to FLSA\"\n",
      "[1] \"html: \"\n",
      "[1] \"html_columbia: \"\n",
      "[1] \"html_with_citations: <pre class=\\\"inline\\\">          United States Court of Appeals\\n                        For the First Circuit\\n\\n\\nNos. 12-1573, 12-1653\\n\\n                    ELIZABETH MANNING ET AL.,\\n\\n                        Plaintiffs, Appellants,\\n\\n                                  v.\\n\\n               BOSTON MEDICAL CENTER CORPORATION;\\n                  ELAINE ULLIAN; JAMES CANAVAN,\\n\\n                        Defendants, Appellees,\\n\\n  BOSTON REGIONAL MEDICAL CENTER, INC.; BOSTON REGIONAL MEDICAL\\n     CENTER, LLC; BOSTON MEDICAL CENTER 403B RETIREMENT PLAN,\\n\\n                              Defendants.\\n\\n\\n          APPEAL FROM THE UNITED STATES DISTRICT COURT\\n                FOR THE DISTRICT OF MASSACHUSETTS\\n\\n            [Hon. Rya W. Zobel, U.S. District Judge]\\n\\n\\n                                Before\\n\\n                   Thompson, Stahl, and Lipez,\\n                         Circuit Judges.\\n\\n\\n     Guy A. Talia, with whom Patrick J. Solomon and Thomas &\\nSolomon LLP were on brief, for appellants.\\n     C.J. Eaton, with whom Richard L. Alfred, Kristin G. McGurn,\\nJessica M. Schauer, and Seyfarth Shaw LLP were on brief, for\\nappellees.\\n\\n\\n\\n                            August 1, 2013\\n\\f            LIPEZ, Circuit Judge. Plaintiffs Elizabeth Manning, Lisa\\n\\nRivers, Rhonda Williams, and Reva McCarthy bring this wage-and-hour\\n\\naction    against    defendants      Boston    Medical      Center   Corporation\\n\\n(\\\"BMC\\\"), Elaine Ullian, and James Canavan.             Current and former BMC\\n\\nemployees, plaintiffs allege that defendants deprived them of their\\n\\nwages through the use of timekeeping policies and employment\\n\\npractices that required them to work through their meal and rest\\n\\nperiods, put in extra work time before and after their regularly\\n\\nscheduled work shifts, and attend mandatory training sessions. The\\n\\ncomplaint asserts causes of action under the Fair Labor Standards\\n\\nAct (\\\"FLSA\\\") and Massachusetts common law for recovery of their\\n\\nunpaid wages.      Plaintiffs also seek certification of a collective\\n\\nact\"\n"
     ]
    }
   ],
   "source": [
    "print_some_lines(opinions[[1]],2000)"
   ]
  },
  {
   "cell_type": "markdown",
   "metadata": {},
   "source": [
    "### Problem 2: Get Author Name"
   ]
  },
  {
   "cell_type": "code",
   "execution_count": 5,
   "metadata": {},
   "outputs": [
    {
     "data": {
      "text/plain": [
       "NULL"
      ]
     },
     "metadata": {},
     "output_type": "display_data"
    },
    {
     "data": {
      "text/html": [
       "''"
      ],
      "text/latex": [
       "''"
      ],
      "text/markdown": [
       "''"
      ],
      "text/plain": [
       "[1] \"\""
      ]
     },
     "metadata": {},
     "output_type": "display_data"
    }
   ],
   "source": [
    "opinions[[1067]]$author\n",
    "opinions[[1067]]$author_str"
   ]
  },
  {
   "cell_type": "markdown",
   "metadata": {},
   "source": [
    "https://www.courtlistener.com/opinion/237855/doris-sylvia-grey-infant-and-howard-martin-grey-infant-children-of/"
   ]
  },
  {
   "cell_type": "code",
   "execution_count": 6,
   "metadata": {},
   "outputs": [
    {
     "data": {
      "text/html": [
       "<span style=white-space:pre-wrap>'&lt;p class=\"indent\"&gt;Before HAND, MEDINA and LUMBARD, Circuit Judges.&lt;/p&gt;\\n      &lt;p class=\"indent\"&gt;MEDINA, Circuit Judge.&lt;/p&gt;\\n    &lt;/div&gt;\\n    &lt;div class=\"num\" id=\"p1\"&gt;\\n      &lt;span c'</span>"
      ],
      "text/latex": [
       "'<p class=\"indent\">Before HAND, MEDINA and LUMBARD, Circuit Judges.</p>\\textbackslash{}n      <p class=\"indent\">MEDINA, Circuit Judge.</p>\\textbackslash{}n    </div>\\textbackslash{}n    <div class=\"num\" id=\"p1\">\\textbackslash{}n      <span c'"
      ],
      "text/markdown": [
       "<span style=white-space:pre-wrap>'&lt;p class=\"indent\"&gt;Before HAND, MEDINA and LUMBARD, Circuit Judges.&lt;/p&gt;\\n      &lt;p class=\"indent\"&gt;MEDINA, Circuit Judge.&lt;/p&gt;\\n    &lt;/div&gt;\\n    &lt;div class=\"num\" id=\"p1\"&gt;\\n      &lt;span c'</span>"
      ],
      "text/plain": [
       "[1] \"<p class=\\\"indent\\\">Before HAND, MEDINA and LUMBARD, Circuit Judges.</p>\\n      <p class=\\\"indent\\\">MEDINA, Circuit Judge.</p>\\n    </div>\\n    <div class=\\\"num\\\" id=\\\"p1\\\">\\n      <span c\""
      ]
     },
     "metadata": {},
     "output_type": "display_data"
    }
   ],
   "source": [
    "substr(opinions[[1067]]$html_with_citations,1025,1200)"
   ]
  },
  {
   "cell_type": "code",
   "execution_count": 7,
   "metadata": {},
   "outputs": [
    {
     "data": {
      "text/html": [
       "'MEDINA,'"
      ],
      "text/latex": [
       "'MEDINA,'"
      ],
      "text/markdown": [
       "'MEDINA,'"
      ],
      "text/plain": [
       "[1] \"MEDINA,\""
      ]
     },
     "metadata": {},
     "output_type": "display_data"
    }
   ],
   "source": [
    "str_match(opinions[[1067]]$html_with_citations, \"<p class=\\\"indent\\\"([ \\t>]*)([a-zA-Z,]*)[ \\t]Circuit[ \\t]+Judge[.]\")[,3]"
   ]
  },
  {
   "cell_type": "markdown",
   "metadata": {},
   "source": [
    "### Problem 3: \"Year\" is missing  \n",
    "\n",
    "- Year is import to remove time/era effects after obtaining vector representations of the texts.\n",
    "- Easy to get from \"local path\" if available, otherwise need to extract from opinion."
   ]
  },
  {
   "cell_type": "code",
   "execution_count": 8,
   "metadata": {},
   "outputs": [
    {
     "data": {
      "text/html": [
       "'December 10, 2009'"
      ],
      "text/latex": [
       "'December 10, 2009'"
      ],
      "text/markdown": [
       "'December 10, 2009'"
      ],
      "text/plain": [
       "[1] \"December 10, 2009\""
      ]
     },
     "metadata": {},
     "output_type": "display_data"
    }
   ],
   "source": [
    "regex_date = '(Jan(uary)?|Feb(ruary)?|Mar(ch)?|Apr(il)?|May|Jun(e)?|Jul(y)?|Aug(ust)?|Sep(tember)?|Oct(ober)?\n",
    "|Nov(ember)?|Dec(ember)?)\\\\s+\\\\d{1,2},\\\\s+\\\\d{4}'\n",
    "date = str_match(opinions[[4]]$html_with_citations, regex_date)[1]\n",
    "date\n",
    "\n"
   ]
  },
  {
   "cell_type": "markdown",
   "metadata": {},
   "source": [
    "### Problem 4: Dissents, Concurring, Per Curiam, Errata Sheets"
   ]
  },
  {
   "cell_type": "markdown",
   "metadata": {},
   "source": [
    "Example Dissent: \n",
    "\n",
    "https://www.courtlistener.com/opinion/1036108/manning-v-boston-medical-center/\n",
    "\n",
    "Example Errata Sheet:\n",
    "\n",
    "https://www.courtlistener.com/opinion/1034770/in-reauerhahn-v/"
   ]
  },
  {
   "cell_type": "markdown",
   "metadata": {},
   "source": [
    "Excluding these for now  \n",
    "\n",
    "Total First Circuit Files: 34834  \n",
    "Dissents: 275 (< 1%)  \n",
    "Errata: 1527 (4%)  \n",
    "Per Curiam: 3713 (10%)  "
   ]
  },
  {
   "cell_type": "markdown",
   "metadata": {},
   "source": [
    "![image2](images/federal_dissents.png)"
   ]
  },
  {
   "cell_type": "markdown",
   "metadata": {},
   "source": [
    "(From \"Why (and when) judges dissents: A Theoretical Empiriccal Analysis\" - Epstein, Landes, Posner (2011))"
   ]
  },
  {
   "cell_type": "markdown",
   "metadata": {},
   "source": [
    "## Metadata"
   ]
  },
  {
   "cell_type": "code",
   "execution_count": 9,
   "metadata": {},
   "outputs": [],
   "source": [
    "load('data_inventory.ca1.RDATA')"
   ]
  },
  {
   "cell_type": "code",
   "execution_count": 10,
   "metadata": {},
   "outputs": [
    {
     "data": {
      "text/html": [
       "<table>\n",
       "<thead><tr><th scope=col>file_name</th><th scope=col>year</th><th scope=col>case_name</th><th scope=col>alt_case_name</th><th scope=col>circuit</th><th scope=col>local_path</th><th scope=col>absolute_url</th><th scope=col>type</th><th scope=col>author</th><th scope=col>joined_by</th><th scope=col>download_url</th><th scope=col>plain_text</th><th scope=col>judge</th><th scope=col>dissent</th><th scope=col>concurring</th><th scope=col>per_curiam</th><th scope=col>errata</th></tr></thead>\n",
       "<tbody>\n",
       "\t<tr><td>1.json                                                      </td><td>2010                                                        </td><td>US_v._Davila-Gonzalez                                       </td><td>united-states-v-davila-gonzalez                             </td><td>ca1                                                         </td><td>pdf/2010/02/10/US_v._Davila-Gonzalez.pdf                    </td><td>/opinion/1/united-states-v-davila-gonzalez/                 </td><td>010combined                                                 </td><td>NA                                                          </td><td>NA                                                          </td><td>http://www.ca1.uscourts.gov/pdf.opinions/08-2575P-01A.pdf   </td><td>plain                                                       </td><td>SELYA,                                                      </td><td>0                                                           </td><td>0                                                           </td><td>0                                                           </td><td>0                                                           </td></tr>\n",
       "\t<tr><td>10.json                                                     </td><td>2010                                                        </td><td>US_v._Mitchell                                              </td><td>united-states-v-mitchell                                    </td><td>ca1                                                         </td><td>pdf/2010/02/22/US_v._Mitchell.pdf                           </td><td>/opinion/10/united-states-v-mitchell/                       </td><td>010combined                                                 </td><td>NA                                                          </td><td>NA                                                          </td><td>http://www.ca1.uscourts.gov/pdf.opinions/09-1260P-01A.pdf   </td><td>plain                                                       </td><td>TORRUELLA,                                                  </td><td>0                                                           </td><td>0                                                           </td><td>0                                                           </td><td>0                                                           </td></tr>\n",
       "\t<tr><td>1000.json                                                   </td><td>2010                                                        </td><td>Adams_v._Adams                                              </td><td>adams-v-adams                                               </td><td>ca1                                                         </td><td>pdf/2010/03/31/Adams_v._Adams.pdf                           </td><td>/opinion/1000/adams-v-adams/                                </td><td>010combined                                                 </td><td>NA                                                          </td><td>NA                                                          </td><td>http://www.ca1.uscourts.gov/pdf.opinions/09-1443P-01A.pdf   </td><td>plain                                                       </td><td>STAHL,                                                      </td><td>0                                                           </td><td>0                                                           </td><td>0                                                           </td><td>0                                                           </td></tr>\n",
       "\t<tr><td>1001.json                                                   </td><td>2010                                                        </td><td>Airframe_Systems_Inc._v._Raytheon_Company                   </td><td>airframe-systems-inc-v-raytheon-co                          </td><td>ca1                                                         </td><td>pdf/2010/03/31/Airframe_Systems_Inc._v._Raytheon_Company.pdf</td><td>/opinion/1001/airframe-systems-inc-v-raytheon-co/           </td><td>010combined                                                 </td><td>NA                                                          </td><td>NA                                                          </td><td>http://www.ca1.uscourts.gov/pdf.opinions/09-1624P-01A.pdf   </td><td>plain                                                       </td><td>LYNCH,                                                      </td><td>0                                                           </td><td>0                                                           </td><td>0                                                           </td><td>0                                                           </td></tr>\n",
       "\t<tr><td>1032057.json                                                </td><td>2013                                                        </td><td>united_states_v._hogan                                      </td><td>united-states-v-hogan                                       </td><td>ca1                                                         </td><td>pdf/2013/07/05/united_states_v._hogan.pdf                   </td><td>/opinion/1032057/united-states-v-hogan/                     </td><td>010combined                                                 </td><td>NA                                                          </td><td>NA                                                          </td><td>http://media.ca1.uscourts.gov/pdf.opinions/12-1039P-01A.pdf </td><td>plain                                                       </td><td>THOMPSON,                                                   </td><td>0                                                           </td><td>0                                                           </td><td>0                                                           </td><td>0                                                           </td></tr>\n",
       "\t<tr><td>1032437.json                                                </td><td>2013                                                        </td><td>mitchell_v._us_airways_inc.                                 </td><td>mitchell-v-us-airways-inc                                   </td><td>ca1                                                         </td><td>pdf/2013/07/09/mitchell_v._us_airways_inc..pdf              </td><td>/opinion/1032437/mitchell-v-us-airways-inc/                 </td><td>010combined                                                 </td><td>NA                                                          </td><td>NA                                                          </td><td>http://media.ca1.uscourts.gov/pdf.opinions/12-1543P-01A.pdf </td><td>plain                                                       </td><td>SELYA,                                                      </td><td>0                                                           </td><td>0                                                           </td><td>0                                                           </td><td>0                                                           </td></tr>\n",
       "</tbody>\n",
       "</table>\n"
      ],
      "text/latex": [
       "\\begin{tabular}{r|lllllllllllllllll}\n",
       " file\\_name & year & case\\_name & alt\\_case\\_name & circuit & local\\_path & absolute\\_url & type & author & joined\\_by & download\\_url & plain\\_text & judge & dissent & concurring & per\\_curiam & errata\\\\\n",
       "\\hline\n",
       "\t 1.json                                                           & 2010                                                             & US\\_v.\\_Davila-Gonzalez                                        & united-states-v-davila-gonzalez                                  & ca1                                                              & pdf/2010/02/10/US\\_v.\\_Davila-Gonzalez.pdf                     & /opinion/1/united-states-v-davila-gonzalez/                      & 010combined                                                      & NA                                                               & NA                                                               & http://www.ca1.uscourts.gov/pdf.opinions/08-2575P-01A.pdf        & plain                                                            & SELYA,                                                           & 0                                                                & 0                                                                & 0                                                                & 0                                                               \\\\\n",
       "\t 10.json                                                          & 2010                                                             & US\\_v.\\_Mitchell                                               & united-states-v-mitchell                                         & ca1                                                              & pdf/2010/02/22/US\\_v.\\_Mitchell.pdf                            & /opinion/10/united-states-v-mitchell/                            & 010combined                                                      & NA                                                               & NA                                                               & http://www.ca1.uscourts.gov/pdf.opinions/09-1260P-01A.pdf        & plain                                                            & TORRUELLA,                                                       & 0                                                                & 0                                                                & 0                                                                & 0                                                               \\\\\n",
       "\t 1000.json                                                        & 2010                                                             & Adams\\_v.\\_Adams                                               & adams-v-adams                                                    & ca1                                                              & pdf/2010/03/31/Adams\\_v.\\_Adams.pdf                            & /opinion/1000/adams-v-adams/                                     & 010combined                                                      & NA                                                               & NA                                                               & http://www.ca1.uscourts.gov/pdf.opinions/09-1443P-01A.pdf        & plain                                                            & STAHL,                                                           & 0                                                                & 0                                                                & 0                                                                & 0                                                               \\\\\n",
       "\t 1001.json                                                              & 2010                                                                   & Airframe\\_Systems\\_Inc.\\_v.\\_Raytheon\\_Company                    & airframe-systems-inc-v-raytheon-co                                     & ca1                                                                    & pdf/2010/03/31/Airframe\\_Systems\\_Inc.\\_v.\\_Raytheon\\_Company.pdf & /opinion/1001/airframe-systems-inc-v-raytheon-co/                      & 010combined                                                            & NA                                                                     & NA                                                                     & http://www.ca1.uscourts.gov/pdf.opinions/09-1624P-01A.pdf              & plain                                                                  & LYNCH,                                                                 & 0                                                                      & 0                                                                      & 0                                                                      & 0                                                                     \\\\\n",
       "\t 1032057.json                                                       & 2013                                                               & united\\_states\\_v.\\_hogan                                       & united-states-v-hogan                                              & ca1                                                                & pdf/2013/07/05/united\\_states\\_v.\\_hogan.pdf                    & /opinion/1032057/united-states-v-hogan/                            & 010combined                                                        & NA                                                                 & NA                                                                 & http://media.ca1.uscourts.gov/pdf.opinions/12-1039P-01A.pdf        & plain                                                              & THOMPSON,                                                          & 0                                                                  & 0                                                                  & 0                                                                  & 0                                                                 \\\\\n",
       "\t 1032437.json                                                         & 2013                                                                 & mitchell\\_v.\\_us\\_airways\\_inc.                                  & mitchell-v-us-airways-inc                                            & ca1                                                                  & pdf/2013/07/09/mitchell\\_v.\\_us\\_airways\\_inc..pdf               & /opinion/1032437/mitchell-v-us-airways-inc/                          & 010combined                                                          & NA                                                                   & NA                                                                   & http://media.ca1.uscourts.gov/pdf.opinions/12-1543P-01A.pdf          & plain                                                                & SELYA,                                                               & 0                                                                    & 0                                                                    & 0                                                                    & 0                                                                   \\\\\n",
       "\\end{tabular}\n"
      ],
      "text/markdown": [
       "\n",
       "| file_name | year | case_name | alt_case_name | circuit | local_path | absolute_url | type | author | joined_by | download_url | plain_text | judge | dissent | concurring | per_curiam | errata |\n",
       "|---|---|---|---|---|---|---|---|---|---|---|---|---|---|---|---|---|\n",
       "| 1.json                                                       | 2010                                                         | US_v._Davila-Gonzalez                                        | united-states-v-davila-gonzalez                              | ca1                                                          | pdf/2010/02/10/US_v._Davila-Gonzalez.pdf                     | /opinion/1/united-states-v-davila-gonzalez/                  | 010combined                                                  | NA                                                           | NA                                                           | http://www.ca1.uscourts.gov/pdf.opinions/08-2575P-01A.pdf    | plain                                                        | SELYA,                                                       | 0                                                            | 0                                                            | 0                                                            | 0                                                            |\n",
       "| 10.json                                                      | 2010                                                         | US_v._Mitchell                                               | united-states-v-mitchell                                     | ca1                                                          | pdf/2010/02/22/US_v._Mitchell.pdf                            | /opinion/10/united-states-v-mitchell/                        | 010combined                                                  | NA                                                           | NA                                                           | http://www.ca1.uscourts.gov/pdf.opinions/09-1260P-01A.pdf    | plain                                                        | TORRUELLA,                                                   | 0                                                            | 0                                                            | 0                                                            | 0                                                            |\n",
       "| 1000.json                                                    | 2010                                                         | Adams_v._Adams                                               | adams-v-adams                                                | ca1                                                          | pdf/2010/03/31/Adams_v._Adams.pdf                            | /opinion/1000/adams-v-adams/                                 | 010combined                                                  | NA                                                           | NA                                                           | http://www.ca1.uscourts.gov/pdf.opinions/09-1443P-01A.pdf    | plain                                                        | STAHL,                                                       | 0                                                            | 0                                                            | 0                                                            | 0                                                            |\n",
       "| 1001.json                                                    | 2010                                                         | Airframe_Systems_Inc._v._Raytheon_Company                    | airframe-systems-inc-v-raytheon-co                           | ca1                                                          | pdf/2010/03/31/Airframe_Systems_Inc._v._Raytheon_Company.pdf | /opinion/1001/airframe-systems-inc-v-raytheon-co/            | 010combined                                                  | NA                                                           | NA                                                           | http://www.ca1.uscourts.gov/pdf.opinions/09-1624P-01A.pdf    | plain                                                        | LYNCH,                                                       | 0                                                            | 0                                                            | 0                                                            | 0                                                            |\n",
       "| 1032057.json                                                 | 2013                                                         | united_states_v._hogan                                       | united-states-v-hogan                                        | ca1                                                          | pdf/2013/07/05/united_states_v._hogan.pdf                    | /opinion/1032057/united-states-v-hogan/                      | 010combined                                                  | NA                                                           | NA                                                           | http://media.ca1.uscourts.gov/pdf.opinions/12-1039P-01A.pdf  | plain                                                        | THOMPSON,                                                    | 0                                                            | 0                                                            | 0                                                            | 0                                                            |\n",
       "| 1032437.json                                                 | 2013                                                         | mitchell_v._us_airways_inc.                                  | mitchell-v-us-airways-inc                                    | ca1                                                          | pdf/2013/07/09/mitchell_v._us_airways_inc..pdf               | /opinion/1032437/mitchell-v-us-airways-inc/                  | 010combined                                                  | NA                                                           | NA                                                           | http://media.ca1.uscourts.gov/pdf.opinions/12-1543P-01A.pdf  | plain                                                        | SELYA,                                                       | 0                                                            | 0                                                            | 0                                                            | 0                                                            |\n",
       "\n"
      ],
      "text/plain": [
       "  file_name    year case_name                                \n",
       "1 1.json       2010 US_v._Davila-Gonzalez                    \n",
       "2 10.json      2010 US_v._Mitchell                           \n",
       "3 1000.json    2010 Adams_v._Adams                           \n",
       "4 1001.json    2010 Airframe_Systems_Inc._v._Raytheon_Company\n",
       "5 1032057.json 2013 united_states_v._hogan                   \n",
       "6 1032437.json 2013 mitchell_v._us_airways_inc.              \n",
       "  alt_case_name                      circuit\n",
       "1 united-states-v-davila-gonzalez    ca1    \n",
       "2 united-states-v-mitchell           ca1    \n",
       "3 adams-v-adams                      ca1    \n",
       "4 airframe-systems-inc-v-raytheon-co ca1    \n",
       "5 united-states-v-hogan              ca1    \n",
       "6 mitchell-v-us-airways-inc          ca1    \n",
       "  local_path                                                  \n",
       "1 pdf/2010/02/10/US_v._Davila-Gonzalez.pdf                    \n",
       "2 pdf/2010/02/22/US_v._Mitchell.pdf                           \n",
       "3 pdf/2010/03/31/Adams_v._Adams.pdf                           \n",
       "4 pdf/2010/03/31/Airframe_Systems_Inc._v._Raytheon_Company.pdf\n",
       "5 pdf/2013/07/05/united_states_v._hogan.pdf                   \n",
       "6 pdf/2013/07/09/mitchell_v._us_airways_inc..pdf              \n",
       "  absolute_url                                      type        author\n",
       "1 /opinion/1/united-states-v-davila-gonzalez/       010combined NA    \n",
       "2 /opinion/10/united-states-v-mitchell/             010combined NA    \n",
       "3 /opinion/1000/adams-v-adams/                      010combined NA    \n",
       "4 /opinion/1001/airframe-systems-inc-v-raytheon-co/ 010combined NA    \n",
       "5 /opinion/1032057/united-states-v-hogan/           010combined NA    \n",
       "6 /opinion/1032437/mitchell-v-us-airways-inc/       010combined NA    \n",
       "  joined_by download_url                                               \n",
       "1 NA        http://www.ca1.uscourts.gov/pdf.opinions/08-2575P-01A.pdf  \n",
       "2 NA        http://www.ca1.uscourts.gov/pdf.opinions/09-1260P-01A.pdf  \n",
       "3 NA        http://www.ca1.uscourts.gov/pdf.opinions/09-1443P-01A.pdf  \n",
       "4 NA        http://www.ca1.uscourts.gov/pdf.opinions/09-1624P-01A.pdf  \n",
       "5 NA        http://media.ca1.uscourts.gov/pdf.opinions/12-1039P-01A.pdf\n",
       "6 NA        http://media.ca1.uscourts.gov/pdf.opinions/12-1543P-01A.pdf\n",
       "  plain_text judge      dissent concurring per_curiam errata\n",
       "1 plain      SELYA,     0       0          0          0     \n",
       "2 plain      TORRUELLA, 0       0          0          0     \n",
       "3 plain      STAHL,     0       0          0          0     \n",
       "4 plain      LYNCH,     0       0          0          0     \n",
       "5 plain      THOMPSON,  0       0          0          0     \n",
       "6 plain      SELYA,     0       0          0          0     "
      ]
     },
     "metadata": {},
     "output_type": "display_data"
    }
   ],
   "source": [
    "head(df)"
   ]
  },
  {
   "cell_type": "markdown",
   "metadata": {},
   "source": [
    "***\n",
    "## Text Pre-Processing\n",
    "\n"
   ]
  },
  {
   "cell_type": "markdown",
   "metadata": {},
   "source": [
    "Tokenize Terms:\n",
    "\n",
    "1. convert to lowercase\n",
    "2. split strings using delimiter: \" \\r\\n\\t.,;:()?!//\"\n",
    "3. remove punctuation\n",
    "4. remove numbers\n",
    "5. trim white space\n",
    "6. remove stop words\n",
    "7. minimum number character = 3\n",
    "8. maximum number character = 100\n",
    "9. stem tokens"
   ]
  },
  {
   "cell_type": "markdown",
   "metadata": {},
   "source": [
    "## Text Model"
   ]
  },
  {
   "cell_type": "markdown",
   "metadata": {},
   "source": [
    "![doc2vec](images/doc2vec.png)"
   ]
  },
  {
   "cell_type": "markdown",
   "metadata": {},
   "source": [
    "## Analysis"
   ]
  },
  {
   "cell_type": "markdown",
   "metadata": {},
   "source": [
    "Average document vectors for each judge then plot.\n",
    "Only keep judge if more than 100 opinions are available. (25 judges)"
   ]
  },
  {
   "cell_type": "code",
   "execution_count": null,
   "metadata": {},
   "outputs": [],
   "source": [
    "# Load Data\n",
    "judge_meta = read.csv(file='ca1_Judge_Metadata.csv')\n",
    "head(judge_meta,30)"
   ]
  },
  {
   "cell_type": "markdown",
   "metadata": {},
   "source": [
    "## First Pass:\n",
    "\n",
    "![pca](images/NoDeMeaning.png)\n",
    "\n",
    "## De-mean by Circuit Court:\n",
    "\n",
    "![pca](images/DeMeanCourts.png)\n",
    "\n",
    "## Color-Code Birthyear:\n",
    "\n",
    "![pca](images/ColorCodeBirth.png)\n",
    "\n",
    "## De-mean by Opinion Year too:\n",
    "\n",
    "![pca](images/finalPCA1.png)\n",
    "\n",
    "![pca](images/finalPCA2.png)"
   ]
  }
 ],
 "metadata": {
  "kernelspec": {
   "display_name": "R",
   "language": "R",
   "name": "ir"
  },
  "language_info": {
   "codemirror_mode": "r",
   "file_extension": ".r",
   "mimetype": "text/x-r-source",
   "name": "R",
   "pygments_lexer": "r",
   "version": "3.5.2"
  }
 },
 "nbformat": 4,
 "nbformat_minor": 2
}
